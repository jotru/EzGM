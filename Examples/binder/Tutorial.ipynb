{
 "cells": [
  {
   "cell_type": "markdown",
   "metadata": {},
   "source": [
    "## Basics of EzGM\n",
    "Created on: 26/08/2021\n",
    "\n",
    "Author: Volkan Ozsarac\n",
    "\n",
    "Affiliation: University School for Advanced Studies IUSS Pavia\n",
    "\n",
    "Earthquake Engineering PhD Candidate\n",
    "\n",
    "email:  volkan.ozsarac@iusspavia.it"
   ]
  },
  {
   "cell_type": "markdown",
   "metadata": {},
   "source": [
    "## Package contents\n",
    "In order to understand what the contents of the package are, the user can use help(package name). EzGM has four different package contents. "
   ]
  },
  {
   "cell_type": "code",
   "execution_count": 1,
   "metadata": {},
   "outputs": [
    {
     "name": "stdout",
     "output_type": "stream",
     "text": [
      "Help on package EzGM:\n",
      "\n",
      "NAME\n",
      "    EzGM\n",
      "\n",
      "PACKAGE CONTENTS\n",
      "    GMProc\n",
      "    OQProc\n",
      "    Selection\n",
      "\n",
      "FILE\n",
      "    /home/volkan/Desktop/EzGM/EzGM/__init__.py\n",
      "\n",
      "\n"
     ]
    }
   ],
   "source": [
    "import EzGM\n",
    "help(EzGM)"
   ]
  },
  {
   "cell_type": "markdown",
   "metadata": {},
   "source": [
    "## Description of the package contents\n",
    "The package contents can be understood by making use of help(content). This will show what functions are inside the package."
   ]
  },
  {
   "cell_type": "markdown",
   "metadata": {},
   "source": [
    "### Description of the functions\n",
    "Similarly, the description of a single function can be understood by making use of help(function). This will show the details of the function, description of the input parameters etc."
   ]
  },
  {
   "cell_type": "markdown",
   "metadata": {},
   "source": [
    "### Navigationg through folders\n",
    "1. Navigation through the folders is possible in binder-hub, and it is necessary in order to see and download output files. First click <font color='red'>File</font> on the upper left corner.\n",
    "2. Then click on <font color='red'>Open</font>, this will put you in the directory where example notebook are located.\n",
    "3. The output directory is defined by the user. If the user defined the name of output directory as <font color='red'>Outputs</font> all the information can be found within this folder:\n",
    "    - Targeted spectrum: Targeted.pdf\n",
    "    - Simulated and Targeted spectra: Simulated.pdf\n",
    "    - Spectra of selected records and targeted spectrum: Selected.pdf\n",
    "    - Dictionary which contains selection information: obj.pkl\n",
    "    - Raw time histories: unscaled_records_2021_8_26_19_5_48_3_238_0.zip (unscaled_records_date_.zip)\n",
    "    - Scaled and formatted time histories (in g): RSN1086_NORTHR_SYL360_SF_1.730.txt (RecordName_ScaleFactor.txt)\n",
    "    - Scaled time history file names: GMR_names.txt (for selection in two horizontal directions these would be GMR_H1_names.txt   and GMR_H2_names.txt)\n",
    "    - Time step of the selected time histories: GMR_dts.txt\n",
    "![](img/img_1.png \"Title\")\n",
    "![](img/img_2.png \"Title\")\n",
    "![](img/img_3.png \"Title\")"
   ]
  },
  {
   "cell_type": "markdown",
   "metadata": {},
   "source": [
    "## 1) EzGM.Selection\n",
    "EzGM.Selection has three subclasses which requires initialization: \n",
    "- conditional_spectrum: performs cs based selection\n",
    "- tbdy_2018: performs TBDY 2018 (TURKISH BUILDING CODE) based selection\n",
    "- ec8_part1: performs EC8 Part 1 (Eurocode 8 Part 1) based selection \n",
    "\n",
    "Whichever selection method we use: we first create the selection object\n",
    "- obj = EzGM.Selection.conditional_spectrum(...)\n",
    "- obj = EzGM.Selection.tbdy_2018(...)\n",
    "- obj = EzGM.Selection.ec8_part1(...)\n",
    "\n",
    "All three also inherits other methods from EzGM.Selection.utility such as:\n",
    "- plot\n",
    "- ngaw2_download\n",
    "- write"
   ]
  },
  {
   "cell_type": "markdown",
   "metadata": {},
   "source": [
    "### 1a) EzGM.Selection.conditional_spectrum"
   ]
  },
  {
   "cell_type": "code",
   "execution_count": 2,
   "metadata": {},
   "outputs": [
    {
     "name": "stdout",
     "output_type": "stream",
     "text": [
      "Help on function __init__ in module EzGM.Selection:\n",
      "\n",
      "__init__(self, Tstar=0.5, gmpe='BooreEtAl2014', database='NGA_W2', pInfo=1)\n",
      "    Details\n",
      "    -------\n",
      "    Loads the database and add spectral values for Tstar \n",
      "    if they are not present via interpolation.\n",
      "    \n",
      "    Parameters\n",
      "    ----------\n",
      "    Tstar    : int, float, numpy.array, the default is None.\n",
      "        Conditioning period or periods in case of AvgSa [sec].\n",
      "    gmpe     : str, optional\n",
      "        GMPE model (see OpenQuake library). \n",
      "        The default is 'BooreEtAl2014'.\n",
      "    database : str, optional\n",
      "        Database to use: NGA_W2, ESM_2018, EXSIM_Duzce\n",
      "        The default is NGA_W2.        \n",
      "    pInfo    : int, optional\n",
      "        Flag to print required input for the gmpe which is going to be used. \n",
      "        (0: no, 1:yes)\n",
      "        The default is 1.\n",
      "        \n",
      "    Returns\n",
      "    -------\n",
      "    None.\n",
      "\n"
     ]
    }
   ],
   "source": [
    "help(EzGM.Selection.conditional_spectrum.__init__) \n",
    "# e.g. selection oject, obj = EzGM.Selection.conditional_spectrum(...)\n",
    "# for AvgSa we use period array not a single value of Tstar:\n",
    "# import numpy as np\n",
    "# Tstar = np.arange([Tlower, Tupper+Tstep, Tstep])"
   ]
  },
  {
   "cell_type": "code",
   "execution_count": 3,
   "metadata": {},
   "outputs": [
    {
     "name": "stdout",
     "output_type": "stream",
     "text": [
      "Help on function create in module EzGM.Selection:\n",
      "\n",
      "create(self, site_param={'vs30': 520}, rup_param={'rake': 0.0, 'mag': [7.2, 6.5]}, dist_param={'rjb': [20, 5]}, Hcont=[0.6, 0.4], T_Tgt_range=[0.01, 4], im_Tstar=1.0, epsilon=None, cond=1, useVar=1, corr_func='baker_jayaram', outdir='Outputs')\n",
      "    Details\n",
      "    -------\n",
      "    Creates the target spectrum (conditional or unconditional).\n",
      "    \n",
      "    Notes\n",
      "    -----\n",
      "    Requires libraries from openquake.\n",
      "    \n",
      "    References\n",
      "    ----------\n",
      "    Baker JW. Conditional Mean Spectrum: Tool for Ground-Motion Selection.\n",
      "    Journal of Structural Engineering 2011; 137(3): 322–331.\n",
      "    DOI: 10.1061/(ASCE)ST.1943-541X.0000215.\n",
      "    Kohrangi, M., Bazzurro, P., Vamvatsikos, D., and Spillatura, A.\n",
      "    Conditional spectrum-based ground motion record selection using average \n",
      "    spectral acceleration. Earthquake Engineering & Structural Dynamics, \n",
      "    2017, 46(10): 1667–1685.\n",
      "    \n",
      "    Parameters\n",
      "    ----------\n",
      "    site_param : dictionary\n",
      "        Contains required site parameters to define target spectrum.\n",
      "    rup_param  : dictionary\n",
      "        Contains required rupture parameters to define target spectrum.\n",
      "    dist_param : dictionary\n",
      "        Contains required distance parameters to define target spectrum.\n",
      "    Hcont      : list, optional, the default is None.\n",
      "        Hazard contribution for considered scenarios. \n",
      "        If None hazard contribution is the same for all scenarios.\n",
      "    im_Tstar   : int, float, optional, the default is 1.\n",
      "        Conditioning intensity measure level [g] (conditional selection)\n",
      "    epsilon    : list, optional, the default is None.\n",
      "        Epsilon values for considered scenarios (conditional selection)\n",
      "    T_Tgt_range: list, optional, the default is [0.01,4].\n",
      "        Lower and upper bound values for the period range of target spectrum.\n",
      "    cond       : int, optional\n",
      "        0 to run unconditional selection\n",
      "        1 to run conditional selection\n",
      "    useVar     : int, optional, the default is 1.\n",
      "        0 not to use variance in target spectrum\n",
      "        1 to use variance in target spectrum\n",
      "    corr_func: str, optional, the default is baker_jayaram\n",
      "        correlation model to use \"baker_jayaram\",\"akkar\"\n",
      "    outdir     : str, optional, the default is 'Outputs'.\n",
      "        output directory to create.\n",
      "    \n",
      "    Returns\n",
      "    -------\n",
      "    None.\n",
      "\n"
     ]
    }
   ],
   "source": [
    "help(EzGM.Selection.conditional_spectrum.create) # obj.create(...)"
   ]
  },
  {
   "cell_type": "code",
   "execution_count": 4,
   "metadata": {},
   "outputs": [
    {
     "name": "stdout",
     "output_type": "stream",
     "text": [
      "Help on function select in module EzGM.Selection:\n",
      "\n",
      "select(self, nGM=30, selection=1, Sa_def='RotD50', isScaled=1, maxScale=4, Mw_lim=None, Vs30_lim=None, Rjb_lim=None, fault_lim=None, nTrials=20, weights=[1, 2, 0.3], seedValue=0, nLoop=2, penalty=0, tol=10)\n",
      "    Details\n",
      "    -------\n",
      "    Perform the ground motion selection.\n",
      "    \n",
      "    References\n",
      "    ----------\n",
      "    Jayaram, N., Lin, T., and Baker, J. W. (2011). \n",
      "    A computationally efficient ground-motion selection algorithm for \n",
      "    matching a target response spectrum mean and variance.\n",
      "    Earthquake Spectra, 27(3), 797-815.\n",
      "    \n",
      "    \n",
      "    Parameters\n",
      "    ----------\n",
      "    nGM : int, optional, the default is 30.\n",
      "        Number of ground motions to be selected.\n",
      "    selection : int, optional, The default is 1.\n",
      "        1 for single-component selection and arbitrary component sigma.\n",
      "        2 for two-component selection and average component sigma. \n",
      "    Sa_def : str, optional, the default is 'RotD50'.\n",
      "        The spectra definition. Necessary if selection = 2.\n",
      "        'GeoMean' or 'RotD50'. \n",
      "    isScaled : int, optional, the default is 1.\n",
      "        0 not to allow use of amplitude scaling for spectral matching.\n",
      "        1 to allow use of amplitude scaling for spectral matching.\n",
      "    maxScale : float, optional, the default is 4.\n",
      "        The maximum allowable scale factor\n",
      "    Mw_lim : list, optional, the default is None.\n",
      "        The limiting values on magnitude. \n",
      "    Vs30_lim : list, optional, the default is None.\n",
      "        The limiting values on Vs30. \n",
      "    Rjb_lim : list, optional, the default is None.\n",
      "        The limiting values on Rjb. \n",
      "    fault_lim : list, optional, the default is None.\n",
      "        The limiting fault mechanisms.\n",
      "        For NGA_W2 database:\n",
      "            0 for unspecified fault\n",
      "            1 for strike-slip fault\n",
      "            2 for normal fault\n",
      "            3 for reverse fault\n",
      "        For ESM_2018 database:\n",
      "            'NF' for normal faulting\n",
      "            'NS' for predominately normal with strike-slip component\n",
      "            'O' for oblique\n",
      "            'SS' for strike-slip faulting\n",
      "            'TF' for thrust faulting\n",
      "            'TS' for predominately thrust with strike-slip component\n",
      "            'U' for unknown\n",
      "    seedValue  : int, optional, the default is 0.\n",
      "        For repeatability. For a particular seedValue not equal to\n",
      "        zero, the code will output the same set of ground motions.\n",
      "        The set will change when the seedValue changes. If set to\n",
      "        zero, the code randomizes the algorithm and different sets of\n",
      "        ground motions (satisfying the target mean and variance) are\n",
      "        generated each time.\n",
      "    weights : numpy.array or list, optional, the default is [1,2,0.3].\n",
      "        Weights for error in mean, standard deviation and skewness\n",
      "    nTrials : int, optional, the default is 20.\n",
      "        nTrials sets of response spectra are simulated and the best set (in terms of\n",
      "        matching means, variances and skewness is chosen as the seed). The user\n",
      "        can also optionally rerun this segment multiple times before deciding to\n",
      "        proceed with the rest of the algorithm. It is to be noted, however, that\n",
      "        the greedy improvement technique significantly improves the match between\n",
      "        the means and the variances subsequently.\n",
      "    nLoop   : int, optional, the default is 2.\n",
      "        Number of loops of optimization to perform.\n",
      "    penalty : int, optional, the default is 0.\n",
      "        > 0 to penalize selected spectra more than \n",
      "        3 sigma from the target at any period, = 0 otherwise.\n",
      "    tol     : int, optional, the default is 10.\n",
      "        Tolerable percent error to skip optimization \n",
      "    \n",
      "    Returns\n",
      "    -------\n",
      "    None.\n",
      "\n"
     ]
    }
   ],
   "source": [
    "help(EzGM.Selection.conditional_spectrum.select) # obj.select(...)"
   ]
  },
  {
   "cell_type": "code",
   "execution_count": 5,
   "metadata": {},
   "outputs": [
    {
     "name": "stdout",
     "output_type": "stream",
     "text": [
      "Help on function ngaw2_download in module EzGM.Selection:\n",
      "\n",
      "ngaw2_download(self, username, pwd, sleeptime=2, browser='chrome')\n",
      "    Details\n",
      "    -------\n",
      "    This function has been created as a web automation tool in order to\n",
      "    download unscaled record time histories from NGA-West2 Database\n",
      "    (https://ngawest2.berkeley.edu/) by Record Sequence Numbers (RSNs).\n",
      "    \n",
      "    Notes\n",
      "    -----\n",
      "    Either of google-chrome or mozilla-firefox should have been installed priorly.\n",
      "    \n",
      "    Parameters\n",
      "    ----------\n",
      "    username     : str\n",
      "        Account username (e-mail),  e.g. 'username@mail.com'.\n",
      "    pwd          : str\n",
      "        Account password, e.g. 'password!12345'.\n",
      "    sleeptime    : int, default is 3\n",
      "        Time (sec) spent between each browser operation. This can be increased or decreased depending on the internet speed.\n",
      "    browser       : str, default is 'chrome'\n",
      "        The browser to use for download purposes. Valid entries are: 'chrome' or 'firefox'.\n",
      "    \n",
      "    Returns\n",
      "    -------\n",
      "    None\n",
      "\n"
     ]
    }
   ],
   "source": [
    "help(EzGM.Selection.conditional_spectrum.ngaw2_download) # obj.ngaw2_download(...)"
   ]
  },
  {
   "cell_type": "code",
   "execution_count": 6,
   "metadata": {},
   "outputs": [
    {
     "name": "stdout",
     "output_type": "stream",
     "text": [
      "Help on function write in module EzGM.Selection:\n",
      "\n",
      "write(self, obj=0, recs=1, recs_f='')\n",
      "    Details\n",
      "    -------\n",
      "    Writes the cs_master object, selected and scaled records.\n",
      "    \n",
      "    Parameters\n",
      "    ----------\n",
      "    obj : int, optional\n",
      "        flag to write the object into the pickle file. The default is 0.\n",
      "    recs : int, optional\n",
      "        flag to write the selected and scaled time histories.\n",
      "        The default is 1.\n",
      "    recs_f : str, optional\n",
      "        This is option could be used if the user already has all the\n",
      "        records in database. This is the folder path which contains\n",
      "        \"database.zip\" file. The records must be placed inside\n",
      "        recs_f/database.zip/database/\n",
      "        The default is ''.\n",
      "    \n",
      "    Notes\n",
      "    -----\n",
      "    0: no, 1: yes\n",
      "    \n",
      "    Returns\n",
      "    -------\n",
      "    None.\n",
      "\n"
     ]
    }
   ],
   "source": [
    "help(EzGM.Selection.conditional_spectrum.write) # obj.write(...)"
   ]
  },
  {
   "cell_type": "code",
   "execution_count": 7,
   "metadata": {},
   "outputs": [
    {
     "name": "stdout",
     "output_type": "stream",
     "text": [
      "Help on function plot in module EzGM.Selection:\n",
      "\n",
      "plot(self, tgt=0, sim=0, rec=1, save=0, show=1)\n",
      "    Details\n",
      "    -------\n",
      "    Plots the spectra of selected and simulated records,\n",
      "    and/or target spectrum.\n",
      "    \n",
      "    Parameters\n",
      "    ----------\n",
      "    tgt    : int, optional for conditional_spectrum\n",
      "        Flag to plot target spectrum.\n",
      "        The default is 1.\n",
      "    sim    : int, optional for conditional_spectrum\n",
      "        Flag to plot simulated response spectra vs. target spectrum.\n",
      "        The default is 0.\n",
      "    rec    : int, optional for conditional_spectrum\n",
      "        Flag to plot Selected response spectra of selected records\n",
      "        vs. target spectrum.\n",
      "        The default is 1.\n",
      "    save   : int, optional for all selection options\n",
      "        Flag to save plotted figures in pdf format.\n",
      "        The default is 0.\n",
      "    show  : int, optional for all selection options\n",
      "        Flag to show figures\n",
      "        The default is 0.\n",
      "    \n",
      "    Notes\n",
      "    -----\n",
      "    0: no, 1: yes\n",
      "    \n",
      "    Returns\n",
      "    -------\n",
      "    None.\n",
      "\n"
     ]
    }
   ],
   "source": [
    "help(EzGM.Selection.conditional_spectrum.plot) # obj.plot(...)"
   ]
  },
  {
   "cell_type": "markdown",
   "metadata": {},
   "source": [
    "### 1b) EzGM.Selection.tbdy_2018"
   ]
  },
  {
   "cell_type": "code",
   "execution_count": 8,
   "metadata": {},
   "outputs": [
    {
     "name": "stdout",
     "output_type": "stream",
     "text": [
      "Help on function __init__ in module EzGM.Selection:\n",
      "\n",
      "__init__(self, database='NGA_W2', outdir='Outputs')\n",
      "    Details\n",
      "    -------\n",
      "    Loads the record database to use\n",
      "    \n",
      "    Parameters\n",
      "    ----------\n",
      "    database : str, optional\n",
      "        Database to use: NGA_W2, ESM_2018, EXSIM_Duzce\n",
      "        The default is NGA_W2.\n",
      "    outdir : str, optional\n",
      "        Output directory\n",
      "        The default is 'Outputs'\n",
      "    \n",
      "    Returns\n",
      "    -------\n",
      "    None.\n",
      "\n"
     ]
    }
   ],
   "source": [
    "help(EzGM.Selection.tbdy_2018.__init__)  # obj = EzGM.Selection.tbdy_2018(...)"
   ]
  },
  {
   "cell_type": "code",
   "execution_count": 9,
   "metadata": {},
   "outputs": [
    {
     "name": "stdout",
     "output_type": "stream",
     "text": [
      "Help on function select in module EzGM.Selection:\n",
      "\n",
      "select(self, Lat=41.0582, Long=29.00951, DD=2, Soil='ZC', nGM=11, selection=1, Tp=1, Mw_lim=None, Vs30_lim=None, Rjb_lim=None, fault_lim=None, opt=1, maxScale=2, weights=[1, 1])\n",
      "    Details\n",
      "    -------\n",
      "    Select the suitable ground motion set\n",
      "    in accordance with TBDY 2018.\n",
      "    \n",
      "    Rule 1: Mean of selected records should remain above the lower bound target spectra.\n",
      "        For selection = 1: Sa_rec = (Sa_1 or Sa_2) - lower bound = 1.0 * SaTarget(0.2Tp-1.5Tp) \n",
      "        For Selection = 2: Sa_rec = (Sa_1**2+Sa_2**2)**0.5 - lower bound = 1.3 * SaTarget(0.2Tp-1.5Tp) \n",
      "    \n",
      "    Rule 2: \n",
      "        No more than 3 records can be selected from the same event! In other words,\n",
      "        rec_eqID cannot be the same for more than 3 of the selected records.      \n",
      "    \n",
      "    Rule 3: \n",
      "        At least 11 records (or pairs) must be selected.\n",
      "    \n",
      "    Parameters\n",
      "    ----------\n",
      "    Lat: float, optional, the default is 41.0582.\n",
      "        Site latitude\n",
      "    Long: float, optional, the default is 29.00951.\n",
      "        Site longitude\n",
      "    DD:  int, optional, the default is 2.\n",
      "        Earthquake ground motion intensity level (1,2,3,4)\n",
      "    Soil: str, optional, the default is 'ZC'.\n",
      "        Site soil class\n",
      "    nGM : int, optional, the default is 11.\n",
      "        Number of records to be selected. \n",
      "    selection : int, optional, the default is 1.\n",
      "        Number of ground motion components to select. \n",
      "    Tp : float, optional, the default is 1.\n",
      "        Predominant period of the structure. \n",
      "    Mw_lim : list, optional, the default is None.\n",
      "        The limiting values on magnitude. \n",
      "    Vs30_lim : list, optional, the default is None.\n",
      "        The limiting values on Vs30. \n",
      "    Rjb_lim : list, optional, the default is None.\n",
      "        The limiting values on Rjb. \n",
      "    fault_lim : list, optional, the default is None.\n",
      "        The limiting fault mechanisms.\n",
      "        For NGA_W2 database:\n",
      "            0 for unspecified fault\n",
      "            1 for strike-slip fault\n",
      "            2 for normal fault\n",
      "            3 for reverse fault\n",
      "        For ESM_2018 database:\n",
      "            'NF' for normal faulting\n",
      "            'NS' for predominately normal with strike-slip component\n",
      "            'O' for oblique\n",
      "            'SS' for strike-slip faulting\n",
      "            'TF' for thrust faulting\n",
      "            'TS' for predominately thrust with strike-slip component\n",
      "            'U' for unknown\n",
      "    opt : int, optional, the default is 1.\n",
      "        If equal to 0, the record set is selected using\n",
      "        method of “least squares”.\n",
      "        If equal to 1, the record set selected such that \n",
      "        scaling factor is closer to 1.\n",
      "        If equal to 2, the record set selected such that \n",
      "        both scaling factor and standard deviation is lowered.\n",
      "    maxScale : float, optional, the default is 2.\n",
      "        Maximum allowed scaling factor, used with opt=2 case.\n",
      "    weights = list, optional, the default is [1,1].\n",
      "        Error weights (mean,std), used with opt=2 case.\n",
      "    \n",
      "    Returns\n",
      "    -------\n",
      "    None.\n",
      "\n"
     ]
    }
   ],
   "source": [
    "help(EzGM.Selection.tbdy_2018.select)  # obj.select(...)"
   ]
  },
  {
   "cell_type": "markdown",
   "metadata": {},
   "source": [
    "### 1c) EzGM.Selection.ec8_part1"
   ]
  },
  {
   "cell_type": "code",
   "execution_count": 10,
   "metadata": {},
   "outputs": [
    {
     "name": "stdout",
     "output_type": "stream",
     "text": [
      "Help on function __init__ in module EzGM.Selection:\n",
      "\n",
      "__init__(self, database='NGA_W2', outdir='Outputs')\n",
      "    Details\n",
      "    -------\n",
      "    Loads the record database to use\n",
      "    \n",
      "    Parameters\n",
      "    ----------\n",
      "    database : str, optional\n",
      "        Database to use: NGA_W2, ESM_2018, EXSIM_Duzce\n",
      "        The default is NGA_W2.\n",
      "    outdir : str, optional\n",
      "        output directory\n",
      "        The default is 'Outputs'\n",
      "    \n",
      "    Returns\n",
      "    -------\n",
      "    None.\n",
      "\n"
     ]
    }
   ],
   "source": [
    "help(EzGM.Selection.ec8_part1.__init__)  # obj = EzGM.Selection.ec8_part1(...)"
   ]
  },
  {
   "cell_type": "code",
   "execution_count": 11,
   "metadata": {},
   "outputs": [
    {
     "name": "stdout",
     "output_type": "stream",
     "text": [
      "Help on function select in module EzGM.Selection:\n",
      "\n",
      "select(self, ag=0.2, xi=0.05, I=1.0, Type='Type1', Soil='A', nGM=3, selection=1, Tp=1, Mw_lim=None, Vs30_lim=None, Rjb_lim=None, fault_lim=None, opt=1, maxScale=2, weights=[1, 1])\n",
      "    Details\n",
      "    -------\n",
      "    Select the suitable ground motion set\n",
      "    in accordance with EC8 - PART 1\n",
      "    \n",
      "    Mean of selected records should remain above the lower bound target spectra.\n",
      "        For selection = 1: Sa_rec = (Sa_1 or Sa_2) - lower bound = 0.9 * SaTarget(0.2Tp-2.0Tp)\n",
      "        For Selection = 2: Sa_rec = (Sa_1+Sa_2)*0.5 - lower bound = 0.9 * SaTarget(0.2Tp-2.0Tp)\n",
      "        Always Sa(T=0) > Sa(T=0)_target\n",
      "        \n",
      "    Parameters\n",
      "    ----------\n",
      "    ag:  float, optional, the default is 0.25.\n",
      "        Peak ground acceleration [g]\n",
      "    xi: float, optional, the default is 0.05.\n",
      "        Damping\n",
      "    I:  float, optional, the default is 1.2.\n",
      "        importance factor\n",
      "    Type: str, optional, the default is 'Type1'\n",
      "        Type of spectrum (Option: 'Type1' or 'Type2')\n",
      "    Soil: str, optional, the default is 'B'\n",
      "        Soil Class (Options: 'A', 'B', 'C', 'D' or 'E')\n",
      "    nGM : int, optional, the default is 11.\n",
      "        Number of records to be selected. \n",
      "    selection : int, optional, the default is 1.\n",
      "        Number of ground motion components to select. \n",
      "    Tp : float, optional, the default is 1.\n",
      "        Predominant period of the structure. \n",
      "    Mw_lim : list, optional, the default is None.\n",
      "        The limiting values on magnitude. \n",
      "    Vs30_lim : list, optional, the default is None.\n",
      "        The limiting values on Vs30. \n",
      "    Rjb_lim : list, optional, the default is None.\n",
      "        The limiting values on Rjb. \n",
      "    fault_lim : list, optional, the default is None.\n",
      "        The limiting fault mechanisms.\n",
      "        For NGA_W2 database:\n",
      "            0 for unspecified fault\n",
      "            1 for strike-slip fault\n",
      "            2 for normal fault\n",
      "            3 for reverse fault\n",
      "        For ESM_2018 database:\n",
      "            'NF' for normal faulting\n",
      "            'NS' for predominately normal with strike-slip component\n",
      "            'O' for oblique\n",
      "            'SS' for strike-slip faulting\n",
      "            'TF' for thrust faulting\n",
      "            'TS' for predominately thrust with strike-slip component\n",
      "            'U' for unknown\n",
      "    opt : int, optional, the default is 1.\n",
      "        If equal to 0, the record set is selected using\n",
      "        method of “least squares”.\n",
      "        If equal to 1, the record set selected such that \n",
      "        scaling factor is closer to 1.\n",
      "        If equal to 2, the record set selected such that \n",
      "        both scaling factor and standard deviation is lowered.\n",
      "    maxScale : float, optional, the default is 2.\n",
      "        Maximum allowed scaling factor, used with opt=2 case.\n",
      "    weights = list, optional, the default is [1,1].\n",
      "        Error weights (mean,std), used with opt=2 case.\n",
      "    \n",
      "    Returns\n",
      "    -------\n",
      "    None.\n",
      "\n"
     ]
    }
   ],
   "source": [
    "help(EzGM.Selection.ec8_part1.select) # obj.select(...)"
   ]
  },
  {
   "cell_type": "markdown",
   "metadata": {},
   "source": [
    "### 1d) Utilty and its functions\n",
    "Contents of EzGM.Selection.utility are not necessarily need to be used by user. Note that these methods are also inherited by other classes in EzGM.Selection. Yet, there are methods which can be used by the user indepedently. For example; \n",
    "- EzGM.Selection.utility.ReadNGA can be used to read records which have PEER based format. \n",
    "- EzGM.Selection.utility.ReadESM can be used to read records which have ESM based format.  \n",
    "- EzGM.Selection.utility.get_esm_token can be used to generate user access token for ESM database."
   ]
  },
  {
   "cell_type": "code",
   "execution_count": 12,
   "metadata": {},
   "outputs": [
    {
     "name": "stdout",
     "output_type": "stream",
     "text": [
      "Help on function ReadNGA in module EzGM.Selection:\n",
      "\n",
      "ReadNGA(inFilename=None, content=None, outFilename=None)\n",
      "    Details\n",
      "    -------\n",
      "    This function process acceleration history for NGA data file (.AT2 format).\n",
      "    \n",
      "    Parameters\n",
      "    ----------\n",
      "    inFilename : str, optional\n",
      "        Location and name of the input file.\n",
      "        The default is None\n",
      "    content    : str, optional\n",
      "        Raw content of the .AT2 file.\n",
      "        The default is None\n",
      "    outFilename : str, optional\n",
      "        location and name of the output file.\n",
      "        The default is None.\n",
      "    \n",
      "    Notes\n",
      "    -----\n",
      "    At least one of the two variables must be defined: inFilename, content.\n",
      "    \n",
      "    Returns\n",
      "    -------\n",
      "    dt   : float\n",
      "        time interval of recorded points.\n",
      "    npts : int\n",
      "        number of points in ground motion record file.\n",
      "    desc : str\n",
      "        Description of the earthquake (e.g., name, year, etc).\n",
      "    t    : numpy.array (n x 1)\n",
      "        time array, same length with npts.\n",
      "    acc  : numpy.array (n x 1)\n",
      "        acceleration array, same length with time unit\n",
      "        usually in (g) unless stated as other.\n",
      "\n"
     ]
    }
   ],
   "source": [
    "help(EzGM.Selection.utility.ReadNGA)"
   ]
  },
  {
   "cell_type": "code",
   "execution_count": 13,
   "metadata": {},
   "outputs": [
    {
     "name": "stdout",
     "output_type": "stream",
     "text": [
      "Help on function ReadESM in module EzGM.Selection:\n",
      "\n",
      "ReadESM(inFilename=None, content=None, outFilename=None)\n",
      "    Details\n",
      "    -------\n",
      "    This function process acceleration history for ESM data file.\n",
      "    \n",
      "    Parameters\n",
      "    ----------\n",
      "    inFilename : str, optional\n",
      "        Location and name of the input file.\n",
      "        The default is None\n",
      "    content    : str, optional\n",
      "        Raw content of the exsim record file.\n",
      "        The default is None\n",
      "    outFilename : str, optional\n",
      "        location and name of the output file.\n",
      "        The default is None.\n",
      "    \n",
      "    Returns\n",
      "    -------\n",
      "    dt   : float\n",
      "        time interval of recorded points.\n",
      "    npts : int\n",
      "        number of points in ground motion record file.\n",
      "    desc : str\n",
      "        Description of the earthquake (e.g., name, year, etc).\n",
      "    time : numpy.array (n x 1)\n",
      "        time array, same length with npts.\n",
      "    acc  : numpy.array (n x 1)\n",
      "        acceleration array, same length with time unit\n",
      "        usually in (g) unless stated as other.\n",
      "\n"
     ]
    }
   ],
   "source": [
    "help(EzGM.Selection.utility.ReadESM)"
   ]
  },
  {
   "cell_type": "code",
   "execution_count": 14,
   "metadata": {},
   "outputs": [
    {
     "name": "stdout",
     "output_type": "stream",
     "text": [
      "Help on function get_esm_token in module EzGM.Selection:\n",
      "\n",
      "get_esm_token(username, pwd)\n",
      "    Details\n",
      "    -------\n",
      "    This function retrieves ESM database token.\n",
      "    \n",
      "    Notes\n",
      "    -------\n",
      "    Data must be obtained using any program supporting the HTTP-POST method, e.g. CURL.\n",
      "    see: https://esm-db.eu/esmws/generate-signed-message/1/query-options.html\n",
      "    Credentials must have been retrieved from https://esm-db.eu/#/home.\n",
      "    \n",
      "    Parameters\n",
      "    ----------\n",
      "    username     : str\n",
      "        Account username (e-mail),  e.g. 'username@mail.com'.\n",
      "    pwd          : str\n",
      "        Account password, e.g. 'password!12345'.\n",
      "    \n",
      "    Returns\n",
      "    -------\n",
      "    None.\n",
      "\n"
     ]
    }
   ],
   "source": [
    "help(EzGM.Selection.utility.get_esm_token)"
   ]
  },
  {
   "cell_type": "markdown",
   "metadata": {},
   "source": [
    "## 2) GMProc and its functions\n",
    "GMProc is used to process ground motion records"
   ]
  },
  {
   "cell_type": "code",
   "execution_count": 15,
   "metadata": {},
   "outputs": [
    {
     "name": "stdout",
     "output_type": "stream",
     "text": [
      "Help on function baseline_correction in module EzGM.GMProc:\n",
      "\n",
      "baseline_correction(values, dt, polynomial_type)\n",
      "    Details\n",
      "    -------\n",
      "    This script will return baseline corrected values for the given signal.\n",
      "    \n",
      "    Notes\n",
      "    -----\n",
      "    Applicable for Constant, Linear, Quadratic and Cubic polynomial functions.\n",
      "        \n",
      "    References\n",
      "    ----------\n",
      "    Kramer, Steven L. 1996. Geotechnical Earthquake Engineering. Prentice Hall.\n",
      "        \n",
      "    Parameters\n",
      "    ----------\n",
      "    values: numpy.array\n",
      "        signal values.\n",
      "    dt: float          \n",
      "        sampling interval.\n",
      "    polynomial_type: str\n",
      "        type of baseline correction 'Constant', 'Linear', 'Quadratic', 'Cubic'.\n",
      "        \n",
      "    Returns\n",
      "    -------\n",
      "    values_corrected: numpy.array\n",
      "        corrected values\n",
      "\n"
     ]
    }
   ],
   "source": [
    "help(EzGM.GMProc.baseline_correction)"
   ]
  },
  {
   "cell_type": "code",
   "execution_count": 16,
   "metadata": {},
   "outputs": [
    {
     "name": "stdout",
     "output_type": "stream",
     "text": [
      "Help on function butterworth_filter in module EzGM.GMProc:\n",
      "\n",
      "butterworth_filter(values, dt, cut_off=(0.1, 25), **kwargs)\n",
      "    Details\n",
      "    -------\n",
      "    This script will return filtered values for the given signal.\n",
      "    \n",
      "    References\n",
      "    ----------\n",
      "    Kramer, Steven L. 1996. Geotechnical Earthquake Engineering, Prentice Hall.\n",
      "        \n",
      "    Parameters\n",
      "    ----------\n",
      "    values: numpy.array\n",
      "        Input signal.\n",
      "    dt: float\n",
      "        time-step.\n",
      "    cut_off: tuple, list, optional          \n",
      "        Lower and upper cut off frequencies for the filter, if None then no filter. \n",
      "        e.g. (None, 15) applies a lowpass filter at 15Hz, whereas (0.1, 10) applies\n",
      "        a bandpass filter at 0.1Hz to 10Hz.\n",
      "    kwargs: keyword arguments, optional\n",
      "        filter_order: int\n",
      "            Order of the Butterworth filter (default = 4).\n",
      "        remove_gibbs: str, the default is None.\n",
      "            Pads with zeros to remove the Gibbs filter effect.\n",
      "            if = 'start' then pads at start,\n",
      "            if = 'end' then pads at end,\n",
      "            if = 'mid' then pads half at start and half at end.\n",
      "        gibbs_extra: int, the default is 1\n",
      "            Each increment of the value doubles the record length using zero padding.\n",
      "        gibbs_range: int, the default is 50\n",
      "            gibbs index range.\n",
      "    Returns\n",
      "    -------\n",
      "    values_filtered: numpy.array\n",
      "        Filtered signal.\n",
      "\n"
     ]
    }
   ],
   "source": [
    "help(EzGM.GMProc.butterworth_filter)"
   ]
  },
  {
   "cell_type": "code",
   "execution_count": 17,
   "metadata": {},
   "outputs": [
    {
     "name": "stdout",
     "output_type": "stream",
     "text": [
      "Help on function get_parameters in module EzGM.GMProc:\n",
      "\n",
      "get_parameters(Ag, dt, T, xi)\n",
      "    Details\n",
      "    -------\n",
      "    This script will return various ground motion parameters for a given record.\n",
      "        \n",
      "    References\n",
      "    ---------- \n",
      "    Kramer, Steven L. 1996. Geotechnical Earthquake Engineering, Prentice Hall\n",
      "    Chopra, A.K. 2012. Dynamics of Structures: Theory and \n",
      "    Applications to Earthquake Engineering, Prentice Hall.\n",
      "        \n",
      "    Parameters\n",
      "    ----------\n",
      "    Ag: numpy.array    \n",
      "        Acceleration values [m/s2].\n",
      "    dt: float\n",
      "        Time step [sec]\n",
      "    T:  float, numpy.array.\n",
      "        Considered period array e.g. 0 sec, 0.1 sec ... 4 sec.\n",
      "    xi: float\n",
      "        Damping ratio, e.g. 0.05 for 5%.\n",
      "        \n",
      "    Returns\n",
      "    -------\n",
      "    param: dictionary\n",
      "        Contains the following intensity measures:\n",
      "        PSa: numpy.array\n",
      "            Elastic pseudo-acceleration response spectrum [m/s2].\n",
      "        PSv: numpy.array\n",
      "            Elastic pseudo-velocity response spectrum [m/s].\n",
      "        Sd: numpy.array\n",
      "            Elastic displacement response spectrum  - relative displacement [m].\n",
      "        Sv: numpy.array\n",
      "            Elastic velocity response spectrum - relative velocity at [m/s].\n",
      "        Sa: numpy.array\n",
      "            Elastic accleration response spectrum - total acceleration [m/s2].\n",
      "        Ei_r: numpy.array\n",
      "            Relative input energy spectrum for elastic system [N.m].\n",
      "        Ei_a: numpy.array\n",
      "            Absolute input energy spectrum for elastic system [N.m].\n",
      "        Periods: numpy.array \n",
      "            Periods where spectral values are calculated [sec].\n",
      "        FAS: numpy.array \n",
      "            Fourier amplitude spectra.\n",
      "        PAS: numpy.array \n",
      "            Power amplitude spectra.\n",
      "        PGA: float\n",
      "            Peak ground acceleration [m/s2].\n",
      "        PGV: float\n",
      "            Peak ground velocity [m/s].\n",
      "        PGD: float\n",
      "            Peak ground displacement [m].\n",
      "        Aint: numpy.array \n",
      "            Arias intensity ratio vector with time [m/s].\n",
      "        Arias: float \n",
      "            Maximum value of arias intensity ratio [m/s].\n",
      "        HI: float\n",
      "            Housner intensity ratio [m].\n",
      "            Requires T to be defined between (0.1-2.5 sec), otherwise not applicable, and equal to -1.\n",
      "        CAV: float\n",
      "            Cumulative absolute velocity [m/s]        \n",
      "        t_5_75: list\n",
      "            Significant duration time vector between 5% and 75% of energy release (from Aint).\n",
      "        D_5_75: float\n",
      "            Significant duration between 5% and 75% of energy release (from Aint).\n",
      "        t_5_95: list    \n",
      "            Significant duration time vector between 5% and 95% of energy release (from Aint).\n",
      "        D_5_95: float\n",
      "            Significant duration between 5% and 95% of energy release (from Aint).\n",
      "        t_bracketed: list \n",
      "            Bracketed duration time vector (acc>0.05g).\n",
      "            Not applicable, in case of low intensity records, thus, equal to '-1.\n",
      "        D_bracketed: float\n",
      "            Bracketed duration (acc>0.05g)\n",
      "        t_uniform: list \n",
      "            Uniform duration time vector (acc>0.05g)\n",
      "            Not applicable, in case of low intensity records, thus, equal to -1.\n",
      "        D_uniform: float \n",
      "            Uniform duration (acc>0.05g)\n",
      "        Tm: float\n",
      "            Mean period.\n",
      "        Tp: float             \n",
      "            Predominant Period.\n",
      "        aRMS: float \n",
      "            Root mean square root of acceleration [m/s2].\n",
      "        vRMS: float\n",
      "            Root mean square root of velocity [m/s].\n",
      "        dRMS: float  \n",
      "            Root mean square root of displacement [m].\n",
      "        Ic: float\n",
      "            Characteristic intensity.\n",
      "            End time might which is used herein, is not always a good choice.\n",
      "        ASI: float   \n",
      "            Acceleration spectrum intensity [m/s].\n",
      "            Requires T to be defined between (0.1-0.5 sec), otherwise not applicable, and equal to -1.\n",
      "        MASI: float [m]\n",
      "            Modified acceleration spectrum intensity.\n",
      "            Requires T to be defined between (0.1-2.5 sec), otherwise not applicable, and equal to -1.\n",
      "        VSI: float [m]\n",
      "            Velocity spectrum intensity.\n",
      "            Requires T to be defined between (0.1-2.5 sec), otherwise not applicable, and equal to -1.\n",
      "\n"
     ]
    }
   ],
   "source": [
    "help(EzGM.GMProc.get_parameters)"
   ]
  },
  {
   "cell_type": "code",
   "execution_count": 18,
   "metadata": {},
   "outputs": [
    {
     "name": "stdout",
     "output_type": "stream",
     "text": [
      "Help on function sdof_ltha in module EzGM.GMProc:\n",
      "\n",
      "sdof_ltha(Ag, dt, T, xi, m=1)\n",
      "    Details\n",
      "    -------\n",
      "    This script will carry out linear time history analysis for SDOF system\n",
      "    It currently uses Newmark Beta Method.\n",
      "    \n",
      "    References\n",
      "    ---------- \n",
      "    Chopra, A.K. 2012. Dynamics of Structures: Theory and \n",
      "    Applications to Earthquake Engineering, Prentice Hall.\n",
      "    N. M. Newmark, “A Method of Computation for Structural Dynamics,”\n",
      "    ASCE Journal of the Engineering Mechanics Division, Vol. 85, 1959, pp. 67-94.\n",
      "    \n",
      "    Notes\n",
      "    -----\n",
      "    * Linear Acceleration Method: Gamma = 1/2, Beta = 1/6\n",
      "    * Average Acceleration Method: Gamma = 1/2, Beta = 1/4\n",
      "    * Average acceleration method is unconditionally stable,\n",
      "      whereas linear acceleration method is stable only if dt/Tn <= 0.55\n",
      "      Linear acceleration method is preferable due to its accuracy.\n",
      "    \n",
      "    Parameters\n",
      "    ----------\n",
      "    Ag: numpy.array    \n",
      "        Acceleration values.\n",
      "    dt: float\n",
      "        Time step [sec]\n",
      "    T:  float, numpy.array.\n",
      "        Considered period array e.g. 0 sec, 0.1 sec ... 4 sec.\n",
      "    xi: float\n",
      "        Damping ratio, e.g. 0.05 for 5%.\n",
      "    m:  float\n",
      "        Mass of SDOF system.\n",
      "        \n",
      "    Returns\n",
      "    -------\n",
      "    u: numpy.array       \n",
      "        Relative displacement response history.\n",
      "    v: numpy.array   \n",
      "        Relative velocity response history.\n",
      "    ac: numpy.array \n",
      "        Relative acceleration response history.\n",
      "    ac_tot: numpy.array \n",
      "        Total acceleration response history.\n",
      "\n"
     ]
    }
   ],
   "source": [
    "help(EzGM.GMProc.sdof_ltha)"
   ]
  },
  {
   "cell_type": "code",
   "execution_count": 19,
   "metadata": {},
   "outputs": [
    {
     "name": "stdout",
     "output_type": "stream",
     "text": [
      "Help on function RotDxx_spectrum in module EzGM.GMProc:\n",
      "\n",
      "RotDxx_spectrum(Ag1, Ag2, dt, T, xi, xx)\n",
      "    Details\n",
      "    -------\n",
      "    This script will return RotDxx spectrum. It currently uses Newmark Beta Method.\n",
      "    \n",
      "    References\n",
      "    ---------- \n",
      "    Boore, D. M. (2006). Orientation-Independent Measures of Ground Motion. \n",
      "    Bulletin of the Seismological Society of America, 96(4A), 1502–1511.\n",
      "    Boore, D. M. (2010). Orientation-Independent, Nongeometric-Mean Measures \n",
      "    of Seismic Intensity from Two Horizontal Components of Motion. \n",
      "    Bulletin of the Seismological Society of America, 100(4), 1830–1835.\n",
      "    \n",
      "    Notes\n",
      "    -----\n",
      "    * Linear Acceleration Method: Gamma = 1/2, Beta = 1/6\n",
      "    * Average Acceleration Method: Gamma = 1/2, Beta = 1/4\n",
      "    * Average acceleration method is unconditionally stable,\n",
      "      whereas linear acceleration method is stable only if dt/Tn <= 0.55\n",
      "      Linear acceleration method is preferable due to its accuracy.\n",
      "        \n",
      "    Parameters\n",
      "    ----------\n",
      "    Ag1 : numpy.array    \n",
      "        Acceleration values of 1st horizontal ground motion component.\n",
      "    Ag2 : numpy.array    \n",
      "        Acceleration values of 2nd horizontal ground motion component.\n",
      "    dt: float\n",
      "        Time step [sec].\n",
      "    T:  float, numpy.array\n",
      "        Considered period array e.g. 0 sec, 0.1 sec ... 4 sec.\n",
      "    xi: float\n",
      "        Damping ratio, e.g. 0.05 for 5%.\n",
      "    xx: int, list\n",
      "        Percentile to calculate, e.g. 50 for RotD50.\n",
      "        \n",
      "    Returns\n",
      "    -------\n",
      "    Sa_RotDxx: numpy.array \n",
      "        RotDxx Spectra.\n",
      "\n"
     ]
    }
   ],
   "source": [
    "help(EzGM.GMProc.RotDxx_spectrum)"
   ]
  },
  {
   "cell_type": "markdown",
   "metadata": {},
   "source": [
    "## 3) OQProc and its functions\n",
    "OQProc is used to post-process probabilistic seismic hazard analysis results of OpenQuake Engine"
   ]
  },
  {
   "cell_type": "code",
   "execution_count": 20,
   "metadata": {},
   "outputs": [
    {
     "name": "stdout",
     "output_type": "stream",
     "text": [
      "Help on function hazard in module EzGM.OQProc:\n",
      "\n",
      "hazard(poes, path_hazard_results, output_dir='Post_Outputs', rlz='hazard_curve-mean')\n",
      "    Details\n",
      "    -------\n",
      "    This script will save hazard curves and  iml's corresponding to the desired poes\n",
      "    as .txt files, and the plot the hazard curves in the same figure.\n",
      "    \n",
      "    Parameters\n",
      "    ----------\n",
      "    poes : list\n",
      "        Probabilities of exceedance in tw years for which im levels will be obtained.\n",
      "    path_hazard_results: str\n",
      "        Path to the hazard results.\n",
      "    output_dir: str, optional\n",
      "        Save outputs to a pickle file.\n",
      "    rlz : str, optional\n",
      "        realization name to plot.\n",
      "    \n",
      "    Returns\n",
      "    -------\n",
      "    None.\n",
      "\n"
     ]
    }
   ],
   "source": [
    "help(EzGM.OQProc.hazard)"
   ]
  },
  {
   "cell_type": "code",
   "execution_count": 21,
   "metadata": {},
   "outputs": [
    {
     "name": "stdout",
     "output_type": "stream",
     "text": [
      "Help on function disagg_MR in module EzGM.OQProc:\n",
      "\n",
      "disagg_MR(Mbin, dbin, poe_disagg, path_disagg_results, output_dir='Post_Outputs', n_rows=1)\n",
      "    Details\n",
      "    -------\n",
      "    This script will save disaggregation plots including M and R.\n",
      "    \n",
      "    Parameters\n",
      "    ----------\n",
      "    Mbin : int, float\n",
      "        magnitude bin used in disaggregation.\n",
      "    dbin : int, float\n",
      "        distance bin used in disaggregation.\n",
      "    poe_disagg : list\n",
      "        disaggregation probability of exceedances.\n",
      "    path_disagg_results: str\n",
      "        Path to the disaggregation results.\n",
      "    output_dir: str, optional\n",
      "        Save outputs to a pickle file.\n",
      "    n_rows : int, optional\n",
      "        total number of rows for subplots.\n",
      "    \n",
      "    Returns\n",
      "    -------\n",
      "    None.\n",
      "\n"
     ]
    }
   ],
   "source": [
    "help(EzGM.OQProc.disagg_MR)"
   ]
  },
  {
   "cell_type": "code",
   "execution_count": 22,
   "metadata": {},
   "outputs": [
    {
     "name": "stdout",
     "output_type": "stream",
     "text": [
      "Help on function disagg_MReps in module EzGM.OQProc:\n",
      "\n",
      "disagg_MReps(Mbin, dbin, poe_disagg, path_disagg_results, output_dir='Post_Outputs', n_rows=1)\n",
      "    Details\n",
      "    -------\n",
      "    This script will save disaggregation plots\n",
      "    including M and R.\n",
      "    \n",
      "    Parameters\n",
      "    ----------\n",
      "    Mbin : int, float\n",
      "        magnitude bin used in disaggregation.\n",
      "    dbin : int, float\n",
      "        distance bin used in disaggregation.\n",
      "    poe_disagg : list\n",
      "        disaggregation probability of exceedances\n",
      "    path_disagg_results: str\n",
      "        Path to the hazard results\n",
      "    output_dir: str, optional\n",
      "        Save outputs to a pickle file\n",
      "    n_rows : int, optional\n",
      "        total number of rows for subplots.\n",
      "    \n",
      "    Returns\n",
      "    -------\n",
      "    None.\n",
      "\n"
     ]
    }
   ],
   "source": [
    "help(EzGM.OQProc.disagg_MReps)"
   ]
  }
 ],
 "metadata": {
  "colab": {
   "collapsed_sections": [],
   "name": "Example1.ipynb",
   "provenance": []
  },
  "kernelspec": {
   "display_name": "Python 3 (ipykernel)",
   "language": "python",
   "name": "python3"
  },
  "language_info": {
   "codemirror_mode": {
    "name": "ipython",
    "version": 3
   },
   "file_extension": ".py",
   "mimetype": "text/x-python",
   "name": "python",
   "nbconvert_exporter": "python",
   "pygments_lexer": "ipython3",
   "version": "3.8.10"
  },
  "latex_envs": {
   "LaTeX_envs_menu_present": true,
   "autoclose": false,
   "autocomplete": true,
   "bibliofile": "biblio.bib",
   "cite_by": "apalike",
   "current_citInitial": 1,
   "eqLabelWithNumbers": true,
   "eqNumInitial": 1,
   "hotkeys": {
    "equation": "Ctrl-E",
    "itemize": "Ctrl-I"
   },
   "labels_anchors": false,
   "latex_user_defs": false,
   "report_style_numbering": false,
   "user_envs_cfg": false
  }
 },
 "nbformat": 4,
 "nbformat_minor": 1
}
