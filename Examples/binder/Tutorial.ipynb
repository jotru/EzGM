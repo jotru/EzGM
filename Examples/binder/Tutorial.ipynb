{
 "cells": [
  {
   "cell_type": "markdown",
   "metadata": {},
   "source": [
    "## Basics of EzGM\n",
    "Created on: 26/08/2021\n",
    "\n",
    "Updated on: 24/02/2022\n",
    "\n",
    "Author: Volkan Ozsarac\n",
    "\n",
    "Affiliation: University School for Advanced Studies IUSS Pavia\n",
    "\n",
    "Earthquake Engineering PhD Candidate\n",
    "\n",
    "email:  volkan.ozsarac@iusspavia.it"
   ]
  },
  {
   "cell_type": "markdown",
   "metadata": {},
   "source": [
    "## Package contents\n",
    "In order to understand what the contents of the package are, the user can use help(package name). EzGM has three different package contents. "
   ]
  },
  {
   "cell_type": "code",
   "execution_count": 1,
   "metadata": {},
   "outputs": [
    {
     "name": "stdout",
     "output_type": "stream",
     "text": [
      "Help on package EzGM:\n",
      "\n",
      "NAME\n",
      "    EzGM\n",
      "\n",
      "PACKAGE CONTENTS\n",
      "    selection\n",
      "    signal\n",
      "    utility\n",
      "\n",
      "FILE\n",
      "    c:\\users\\volkan\\anaconda3\\envs\\ezgm\\lib\\site-packages\\ezgm\\__init__.py\n",
      "\n",
      "\n"
     ]
    }
   ],
   "source": [
    "import EzGM\n",
    "help(EzGM)"
   ]
  },
  {
   "cell_type": "markdown",
   "metadata": {},
   "source": [
    "## Description of the package contents\n",
    "The package contents can be understood by making use of help(content). This will show what functions are inside the package."
   ]
  },
  {
   "cell_type": "markdown",
   "metadata": {},
   "source": [
    "### Description of the functions\n",
    "Similarly, the description of a single function can be understood by making use of help(function). This will show the details of the function, description of the input parameters etc."
   ]
  },
  {
   "cell_type": "markdown",
   "metadata": {},
   "source": [
    "### Navigationg through folders\n",
    "1. Navigation through the folders is possible in binder-hub, and it is necessary in order to see and download output files. First click <font color='red'>File</font> on the upper left corner.\n",
    "2. Then click on <font color='red'>Open</font>, this will put you in the directory where example notebook are located.\n",
    "3. The output directory is defined by the user. If the user defined the name of output directory as <font color='red'>Outputs</font> all the information can be found within this folder:\n",
    "    - Targeted spectrum: Targeted.pdf\n",
    "    - Simulated and Targeted spectra: Simulated.pdf\n",
    "    - Spectra of selected records and targeted spectrum: Selected.pdf\n",
    "    - Dictionary which contains selection information: obj.pkl\n",
    "    - Raw time histories: unscaled_records_2021_8_26_19_5_48_3_238_0.zip (unscaled_records_date_.zip)\n",
    "    - Scaled and formatted time histories (in g): RSN1086_NORTHR_SYL360_SF_1.730.txt (RecordName_ScaleFactor.txt)\n",
    "    - Scaled time history file names: GMR_names.txt (for selection in two horizontal directions these would be GMR_H1_names.txt   and GMR_H2_names.txt)\n",
    "    - Time step of the selected time histories: GMR_dts.txt\n",
    "![](img/img_1.png \"Title\")\n",
    "![](img/img_2.png \"Title\")\n",
    "![](img/img_3.png \"Title\")"
   ]
  },
  {
   "cell_type": "markdown",
   "metadata": {},
   "source": [
    "## 1) EzGM.selection\n",
    "EzGM.selection has two subclasses which requires initialization: \n",
    "- conditional_spectrum: performs conditional spectrum based selection\n",
    "- code_spectrum: performs building code based selection (TBEC 2018, ASCE 7-16, EC8 - Part 1)\n",
    "\n",
    "Whichever selection option we use: we first create the associated object\n",
    "- obj = EzGM.selection.conditional_spectrum(...)\n",
    "- obj = EzGM.selection.code_spectrum(...)"
   ]
  },
  {
   "cell_type": "markdown",
   "metadata": {},
   "source": [
    "### 1a) EzGM.selection.conditional_spectrum"
   ]
  },
  {
   "cell_type": "code",
   "execution_count": 2,
   "metadata": {},
   "outputs": [
    {
     "name": "stdout",
     "output_type": "stream",
     "text": [
      "Help on function __init__ in module EzGM.selection:\n",
      "\n",
      "__init__(self, database='NGA_W2', outdir='Outputs')\n",
      "    Details\n",
      "    -------\n",
      "    Loads the database and add spectral values for Tstar \n",
      "    if they are not present via interpolation.\n",
      "    \n",
      "    Parameters\n",
      "    ----------\n",
      "    database : str, optional\n",
      "        Database to use: NGA_W2, ESM_2018\n",
      "    The default is NGA_W2.\n",
      "        outdir     : str, optional, the default is 'Outputs'.\n",
      "        output directory to create.\n",
      "    pInfo    : int, optional\n",
      "        Flag to print required input for the gmpe which is going to be used. \n",
      "        (0: no, 1:yes)\n",
      "        The default is 1.\n",
      "        \n",
      "    Returns\n",
      "    -------\n",
      "    None.\n",
      "\n"
     ]
    }
   ],
   "source": [
    "help(EzGM.selection.conditional_spectrum.__init__) # obj = EzGM.Selection.conditional_spectrum(...)"
   ]
  },
  {
   "cell_type": "code",
   "execution_count": 3,
   "metadata": {},
   "outputs": [
    {
     "name": "stdout",
     "output_type": "stream",
     "text": [
      "Help on function create in module EzGM.selection:\n",
      "\n",
      "create(self, Tstar=0.5, gmpe='BooreEtAl2014', selection=1, Sa_def='RotD50', site_param={'vs30': 520}, rup_param={'rake': [0.0, 45.0], 'mag': [7.2, 6.5]}, dist_param={'rjb': [20, 5]}, Hcont=[0.6, 0.4], T_Tgt_range=[0.01, 4], im_Tstar=1.0, epsilon=None, cond=1, useVar=1, corr_func='baker_jayaram')\n",
      "    Details\n",
      "    -------\n",
      "    Creates the target spectrum (conditional or unconditional).\n",
      "    \n",
      "    Notes\n",
      "    -----\n",
      "    Requires libraries from openquake.\n",
      "    \n",
      "    References\n",
      "    ----------\n",
      "    Baker JW. Conditional Mean Spectrum: Tool for Ground-Motion Selection.\n",
      "    Journal of Structural Engineering 2011; 137(3): 322–331.\n",
      "    DOI: 10.1061/(ASCE)ST.1943-541X.0000215.\n",
      "    \n",
      "    Lin, T., Harmsen, S. C., Baker, J. W., & Luco, N. (2013). \n",
      "    Conditional Spectrum Computation Incorporating Multiple Causal Earthquakes \n",
      "    and Ground-Motion Prediction Models. In Bulletin of the Seismological Society \n",
      "    of America (Vol. 103, Issue 2A, pp. 1103–1116). Seismological Society of \n",
      "    America (SSA). https://doi.org/10.1785/0120110293\n",
      "    \n",
      "    Kohrangi, M., Bazzurro, P., Vamvatsikos, D., and Spillatura, A.\n",
      "    Conditional spectrum-based ground motion record selection using average \n",
      "    spectral acceleration. Earthquake Engineering & Structural Dynamics, \n",
      "    2017, 46(10): 1667–1685.\n",
      "    \n",
      "    Parameters\n",
      "    ----------\n",
      "    Tstar    : int, float, numpy.array, the default is None.\n",
      "        Conditioning period or periods in case of AvgSa [sec].\n",
      "    gmpe     : str, optional\n",
      "        GMPE model (see OpenQuake library).\n",
      "        The default is 'BooreEtAl2014'.\n",
      "    selection : int, optional, The default is 1.\n",
      "        1 for single-component selection and arbitrary component sigma.\n",
      "        2 for two-component selection and average component sigma.\n",
      "    Sa_def : str, optional, the default is 'RotD50'.\n",
      "        The spectra definition. Necessary if selection = 2.\n",
      "        'GeoMean', 'RotD50', 'RotD100'.\n",
      "    site_param : dictionary\n",
      "        Contains required site parameters to define target spectrum.\n",
      "    rup_param  : dictionary\n",
      "        Contains required rupture parameters to define target spectrum.\n",
      "    dist_param : dictionary\n",
      "        Contains required distance parameters to define target spectrum.\n",
      "    Hcont      : list, optional, the default is None.\n",
      "        Hazard contribution for considered scenarios. \n",
      "        If None hazard contribution is the same for all scenarios.\n",
      "    im_Tstar   : int, float, optional, the default is 1.\n",
      "        Conditioning intensity measure level [g] (conditional selection)\n",
      "    epsilon    : list, optional, the default is None.\n",
      "        Epsilon values for considered scenarios (conditional selection)\n",
      "    T_Tgt_range: list, optional, the default is [0.01,4].\n",
      "        Lower and upper bound values for the period range of target spectrum.\n",
      "    cond       : int, optional\n",
      "        0 to run unconditional selection\n",
      "        1 to run conditional selection\n",
      "    useVar     : int, optional, the default is 1.\n",
      "        0 not to use variance in target spectrum\n",
      "        1 to use variance in target spectrum\n",
      "    corr_func: str, optional, the default is baker_jayaram\n",
      "        correlation model to use \"baker_jayaram\",\"akkar\"\n",
      "    \n",
      "    Returns\n",
      "    -------\n",
      "    None.\n",
      "\n"
     ]
    }
   ],
   "source": [
    "help(EzGM.selection.conditional_spectrum.create) # obj.create(...)"
   ]
  },
  {
   "cell_type": "code",
   "execution_count": 4,
   "metadata": {},
   "outputs": [
    {
     "name": "stdout",
     "output_type": "stream",
     "text": [
      "Help on function select in module EzGM.selection:\n",
      "\n",
      "select(self, nGM=30, isScaled=1, maxScale=4, Mw_lim=None, Vs30_lim=None, Rjb_lim=None, fault_lim=None, nTrials=20, weights=[1, 2, 0.3], seedValue=0, nLoop=2, penalty=0, tol=10)\n",
      "    Details\n",
      "    -------\n",
      "    Perform the ground motion selection.\n",
      "    \n",
      "    References\n",
      "    ----------\n",
      "    Jayaram, N., Lin, T., and Baker, J. W. (2011). \n",
      "    A computationally efficient ground-motion selection algorithm for \n",
      "    matching a target response spectrum mean and variance.\n",
      "    Earthquake Spectra, 27(3), 797-815.\n",
      "    \n",
      "    Parameters\n",
      "    ----------\n",
      "    nGM : int, optional, the default is 30.\n",
      "        Number of ground motions to be selected.\n",
      "    isScaled : int, optional, the default is 1.\n",
      "        0 not to allow use of amplitude scaling for spectral matching.\n",
      "        1 to allow use of amplitude scaling for spectral matching.\n",
      "    maxScale : float, optional, the default is 4.\n",
      "        The maximum allowable scale factor\n",
      "    Mw_lim : list, optional, the default is None.\n",
      "        The limiting values on magnitude. \n",
      "    Vs30_lim : list, optional, the default is None.\n",
      "        The limiting values on Vs30. \n",
      "    Rjb_lim : list, optional, the default is None.\n",
      "        The limiting values on Rjb. \n",
      "    fault_lim : list, optional, the default is None.\n",
      "        The limiting fault mechanisms.\n",
      "        For NGA_W2 database:\n",
      "            0 for unspecified fault\n",
      "            1 for strike-slip fault\n",
      "            2 for normal fault\n",
      "            3 for reverse fault\n",
      "        For ESM_2018 database:\n",
      "            'NF' for normal faulting\n",
      "            'NS' for predominately normal with strike-slip component\n",
      "            'O' for oblique\n",
      "            'SS' for strike-slip faulting\n",
      "            'TF' for thrust faulting\n",
      "            'TS' for predominately thrust with strike-slip component\n",
      "            'U' for unknown\n",
      "    seedValue  : int, optional, the default is 0.\n",
      "        For repeatability. For a particular seedValue not equal to\n",
      "        zero, the code will output the same set of ground motions.\n",
      "        The set will change when the seedValue changes. If set to\n",
      "        zero, the code randomizes the algorithm and different sets of\n",
      "        ground motions (satisfying the target mean and variance) are\n",
      "        generated each time.\n",
      "    weights : numpy.array or list, optional, the default is [1,2,0.3].\n",
      "        Weights for error in mean, standard deviation and skewness\n",
      "    nTrials : int, optional, the default is 20.\n",
      "        nTrials sets of response spectra are simulated and the best set (in terms of\n",
      "        matching means, variances and skewness is chosen as the seed). The user\n",
      "        can also optionally rerun this segment multiple times before deciding to\n",
      "        proceed with the rest of the algorithm. It is to be noted, however, that\n",
      "        the greedy improvement technique significantly improves the match between\n",
      "        the means and the variances subsequently.\n",
      "    nLoop   : int, optional, the default is 2.\n",
      "        Number of loops of optimization to perform.\n",
      "    penalty : int, optional, the default is 0.\n",
      "        > 0 to penalize selected spectra more than \n",
      "        3 sigma from the target at any period, = 0 otherwise.\n",
      "    tol     : int, optional, the default is 10.\n",
      "        Tolerable percent error to skip optimization \n",
      "    \n",
      "    Returns\n",
      "    -------\n",
      "    None.\n",
      "\n"
     ]
    }
   ],
   "source": [
    "help(EzGM.selection.conditional_spectrum.select) # obj.select(...)"
   ]
  },
  {
   "cell_type": "code",
   "execution_count": 5,
   "metadata": {},
   "outputs": [
    {
     "name": "stdout",
     "output_type": "stream",
     "text": [
      "Help on function ngaw2_download in module EzGM.selection:\n",
      "\n",
      "ngaw2_download(self, username, pwd, sleeptime=2, browser='chrome')\n",
      "    Details\n",
      "    -------\n",
      "    This function has been created as a web automation tool in order to\n",
      "    download unscaled record time histories from NGA-West2 Database\n",
      "    (https://ngawest2.berkeley.edu/) by Record Sequence Numbers (RSNs).\n",
      "    \n",
      "    Notes\n",
      "    -----\n",
      "    Either of google-chrome or mozilla-firefox should have been installed priorly.\n",
      "    \n",
      "    Parameters\n",
      "    ----------\n",
      "    username     : str\n",
      "        Account username (e-mail),  e.g. 'username@mail.com'.\n",
      "    pwd          : str\n",
      "        Account password, e.g. 'password!12345'.\n",
      "    sleeptime    : int, default is 3\n",
      "        Time (sec) spent between each browser operation. This can be increased or decreased depending on the internet speed.\n",
      "    browser       : str, default is 'chrome'\n",
      "        The browser to use for download purposes. Valid entries are: 'chrome' or 'firefox'.\n",
      "    \n",
      "    Returns\n",
      "    -------\n",
      "    None\n",
      "\n"
     ]
    }
   ],
   "source": [
    "help(EzGM.selection.conditional_spectrum.ngaw2_download) # obj.ngaw2_download(...)"
   ]
  },
  {
   "cell_type": "code",
   "execution_count": 6,
   "metadata": {},
   "outputs": [
    {
     "name": "stdout",
     "output_type": "stream",
     "text": [
      "Help on function write in module EzGM.selection:\n",
      "\n",
      "write(self, obj=0, recs=1, recs_f='')\n",
      "    Details\n",
      "    -------\n",
      "    Writes the cs_master object, selected and scaled records.\n",
      "    \n",
      "    Parameters\n",
      "    ----------\n",
      "    obj : int, optional\n",
      "        flag to write the object into the pickle file. The default is 0.\n",
      "    recs : int, optional\n",
      "        flag to write the selected and scaled time histories.\n",
      "        The default is 1.\n",
      "    recs_f : str, optional\n",
      "        This is option could be used if the user already has all the\n",
      "        records in database. This is the folder path which contains\n",
      "        \"database.zip\" file. The records must be placed inside\n",
      "        recs_f/database.zip/database/\n",
      "        The default is ''.\n",
      "    \n",
      "    Notes\n",
      "    -----\n",
      "    0: no, 1: yes\n",
      "    \n",
      "    Returns\n",
      "    -------\n",
      "    None.\n",
      "\n"
     ]
    }
   ],
   "source": [
    "help(EzGM.selection.conditional_spectrum.write) # obj.write(...)"
   ]
  },
  {
   "cell_type": "code",
   "execution_count": 7,
   "metadata": {},
   "outputs": [
    {
     "name": "stdout",
     "output_type": "stream",
     "text": [
      "Help on function plot in module EzGM.selection:\n",
      "\n",
      "plot(self, tgt=0, sim=0, rec=1, save=0, show=1)\n",
      "    Details\n",
      "    -------\n",
      "    Plots the spectra of selected and simulated records,\n",
      "    and/or target spectrum.\n",
      "    \n",
      "    Parameters\n",
      "    ----------\n",
      "    tgt    : int, optional for conditional_spectrum\n",
      "        Flag to plot target spectrum.\n",
      "        The default is 1.\n",
      "    sim    : int, optional for conditional_spectrum\n",
      "        Flag to plot simulated response spectra vs. target spectrum.\n",
      "        The default is 0.\n",
      "    rec    : int, optional for conditional_spectrum\n",
      "        Flag to plot Selected response spectra of selected records\n",
      "        vs. target spectrum.\n",
      "        The default is 1.\n",
      "    save   : int, optional for all selection options\n",
      "        Flag to save plotted figures in pdf format.\n",
      "        The default is 0.\n",
      "    show  : int, optional for all selection options\n",
      "        Flag to show figures\n",
      "        The default is 0.\n",
      "    \n",
      "    Notes\n",
      "    -----\n",
      "    0: no, 1: yes\n",
      "    \n",
      "    Returns\n",
      "    -------\n",
      "    None.\n",
      "\n"
     ]
    }
   ],
   "source": [
    "help(EzGM.selection.conditional_spectrum.plot) # obj.plot(...)"
   ]
  },
  {
   "cell_type": "markdown",
   "metadata": {},
   "source": [
    "### 1b) EzGM.selection.code_spectrum"
   ]
  },
  {
   "cell_type": "code",
   "execution_count": 8,
   "metadata": {},
   "outputs": [
    {
     "name": "stdout",
     "output_type": "stream",
     "text": [
      "Help on function __init__ in module EzGM.selection:\n",
      "\n",
      "__init__(self, database='NGA_W2', outdir='Outputs', target_path=None, nGM=11, selection=1, Mw_lim=None, Vs30_lim=None, Rjb_lim=None, fault_lim=None, opt=1, maxScale=2, RecPerEvent=3)\n",
      "    Details\n",
      "    -------\n",
      "    Loads the record database to use, creates output folder, sets selection criteria.\n",
      "    \n",
      "    Parameters\n",
      "    ----------\n",
      "    database : str, optional\n",
      "        Database to use: NGA_W2, ESM_2018\n",
      "        The default is NGA_W2.\n",
      "    outdir : str, optional\n",
      "        Output directory\n",
      "        The default is 'Outputs'\n",
      "    target_path = str, optional, the default is None.\n",
      "        Path for used defined target spectrum.\n",
      "    nGM : int, optional, the default is 11.\n",
      "        Number of records to be selected. \n",
      "    selection : int, optional, the default is 1.\n",
      "        Number of ground motion components to select. \n",
      "    Mw_lim : list, optional, the default is None.\n",
      "        The limiting values on magnitude. \n",
      "    Vs30_lim : list, optional, the default is None.\n",
      "        The limiting values on Vs30. \n",
      "    Rjb_lim : list, optional, the default is None.\n",
      "        The limiting values on Rjb. \n",
      "    fault_lim : list, optional, the default is None.\n",
      "        The limiting fault mechanisms.\n",
      "        For NGA_W2 database:\n",
      "            0 for unspecified fault\n",
      "            1 for strike-slip fault\n",
      "            2 for normal fault\n",
      "            3 for reverse fault\n",
      "        For ESM_2018 database:\n",
      "            'NF' for normal faulting\n",
      "            'NS' for predominately normal with strike-slip component\n",
      "            'O' for oblique\n",
      "            'SS' for strike-slip faulting\n",
      "            'TF' for thrust faulting\n",
      "            'TS' for predominately thrust with strike-slip component\n",
      "            'U' for unknown\n",
      "    opt : int, optional, the default is 1.\n",
      "        If equal to 1, the record set is selected using\n",
      "        method of “least squares”, each record has individual scaling factor.\n",
      "        If equal to 2, the record set selected such that each record has\n",
      "        identical scale factor which is as close as possible to 1.\n",
      "    maxScale : float, optional, the default is 2.\n",
      "        Maximum allowed scaling factor, used with opt=2 case.\n",
      "    RecPerEvent: int, the default is 3.\n",
      "        The limit for the maximum number of records belong to the same event\n",
      "    \n",
      "    Returns\n",
      "    -------\n",
      "    None.\n",
      "\n"
     ]
    }
   ],
   "source": [
    "help(EzGM.selection.code_spectrum.__init__)  # obj = EzGM.selection.code_spectrum(...)"
   ]
  },
  {
   "cell_type": "code",
   "execution_count": 9,
   "metadata": {},
   "outputs": [
    {
     "name": "stdout",
     "output_type": "stream",
     "text": [
      "Help on function tbec2018 in module EzGM.selection:\n",
      "\n",
      "tbec2018(self, Lat=41.0582, Long=29.00951, DD=2, SiteClass='ZC', Tp=1)\n",
      "    Details\n",
      "    -------\n",
      "    Selects the suitable ground motion set in accordance with TBEC 2018. \n",
      "    If user did not define any target spectrum, the design spectrum defined by the code is going to be used. \n",
      "    The latter requires the definition of site parameters\n",
      "    \n",
      "    \n",
      "    References\n",
      "    ----------\n",
      "    TBEC. (2018). Turkish building earthquake code.\n",
      "    \n",
      "    Notes\n",
      "    -----\n",
      "    Rule 1: Mean of selected records should remain above the lower bound target spectra.\n",
      "        For selection = 1: Sa_rec = (Sa_1 or Sa_2) - lower bound = 1.0 * SaTarget(0.2Tp-1.5Tp) \n",
      "        For Selection = 2: Sa_rec = (Sa_1**2+Sa_2**2)**0.5 - lower bound = 1.3 * SaTarget(0.2Tp-1.5Tp) \n",
      "    \n",
      "    Rule 2: \n",
      "        No more than 3 records can be selected from the same event! In other words,\n",
      "        rec_eqID cannot be the same for more than 3 of the selected records.      \n",
      "    \n",
      "    Rule 3: \n",
      "        At least 11 records (or pairs) must be selected.\n",
      "    \n",
      "    Parameters\n",
      "    ----------\n",
      "    Lat: float, optional, the default is 41.0582.\n",
      "        Site latitude\n",
      "    Long: float, optional, the default is 29.00951.\n",
      "        Site longitude\n",
      "    DD:  int, optional, the default is 2.\n",
      "        Earthquake ground motion intensity level (1,2,3,4)\n",
      "    SiteClass: str, optional, the default is 'ZC'.\n",
      "        Site soil class ('ZA','ZB','ZC','ZD','ZE')\n",
      "    Tp : float, optional, the default is 1.\n",
      "        Predominant period of the structure. \n",
      "    \n",
      "    Returns\n",
      "    -------\n",
      "    None.\n",
      "\n"
     ]
    }
   ],
   "source": [
    "help(EzGM.selection.code_spectrum.tbec2018)  # obj.tbec2018(...)"
   ]
  },
  {
   "cell_type": "code",
   "execution_count": 10,
   "metadata": {},
   "outputs": [
    {
     "name": "stdout",
     "output_type": "stream",
     "text": [
      "Help on function asce7_16 in module EzGM.selection:\n",
      "\n",
      "asce7_16(self, Lat=34, Long=-118, RiskCat='II', SiteClass='C', T1_small=1, T1_big=1, Tlower=None, Tupper=None)\n",
      "    Details\n",
      "    -------\n",
      "    Selects the suitable ground motion set in accordance with ASCE 7-16. \n",
      "    If user did not define any target spectrum, the MCE_R response spectrum defined by the code is going to be used. \n",
      "    The latter requires the definition of site parameters.\n",
      "    \n",
      "    \n",
      "    References\n",
      "    ----------\n",
      "    American Society of Civil Engineers. (2017, June). Minimum design loads and associated criteria \n",
      "    for buildings and other structures. American Society of Civil Engineers.\n",
      "    \n",
      "    Notes\n",
      "    -----\n",
      "    Rule 1: Mean of selected records should remain above the lower bound target spectra.\n",
      "        For selection = 1: Sa_rec = (Sa_1 or Sa_2) - lower bound = 0.9 * Sa_MCEr(Tlower-Tupper) \n",
      "        For Selection = 2: Sa_rec = RotD100 - lower bound = 0.9 * Sa_MCEr(Tlower-Tupper)     \n",
      "        Tlower >= 0.2 * T1_small\n",
      "        Tupper >= 1.5 * T1_big\n",
      "        \n",
      "    Rule 2: \n",
      "        At least 11 records (or pairs) must be selected.\n",
      "    \n",
      "    Parameters\n",
      "    ----------\n",
      "    Lat: float, optional, the default is 41.0582.\n",
      "        Site latitude\n",
      "    Long: float, optional, the default is 29.00951.\n",
      "        Site longitude\n",
      "    RiskCat:  str, the default is 'III'\n",
      "        Risk category for structure ('I','II','III','IV')\n",
      "    SiteClass: str, optional, the default is 'C'.\n",
      "        Site soil class ('A','B','C','D','E')\n",
      "    T1_small: float, the default is 1.\n",
      "        The smallest of first-mode periods in principal horizontal directions\n",
      "    T1_big: float, the default is 1.\n",
      "        The largest of first-mode periods in principal horizontal directions        \n",
      "    Tlower: float, the default is None.\n",
      "        The lower bound for period range, if None equal to 0.2*T1_small\n",
      "    Tupper: float, the default is None.\n",
      "        The upper bound for period range, if None equal to 2.0*T1_big\n",
      "    \n",
      "    Returns\n",
      "    -------\n",
      "    None.\n",
      "\n"
     ]
    }
   ],
   "source": [
    "help(EzGM.selection.code_spectrum.asce7_16)  # obj.asce7_16(...)"
   ]
  },
  {
   "cell_type": "code",
   "execution_count": 11,
   "metadata": {},
   "outputs": [
    {
     "name": "stdout",
     "output_type": "stream",
     "text": [
      "Help on function ec8_part1 in module EzGM.selection:\n",
      "\n",
      "ec8_part1(self, ag=0.2, xi=0.05, ImpClass='II', Type='Type1', SiteClass='C', Tp=1)\n",
      "    Details\n",
      "    -------\n",
      "    Select the suitable ground motion set in accordance with EC8 - PART 1.\n",
      "    If user did not define any target spectrum, the design spectrum defined by the code is going to be used. \n",
      "    The latter requires the definition of site parameters\n",
      "    \n",
      "    References\n",
      "    ----------\n",
      "    CEN. Eurocode 8: Design of Structures for Earthquake Resistance -  Part 1: General Rules, Seismic Actions and Rules \n",
      "    for Buildings (EN 1998-1:2004). Brussels, Belgium: 2004.\n",
      "    \n",
      "    Notes\n",
      "    -----\n",
      "    Section 3.2.3.1.\n",
      "    \n",
      "    Rule 1 (a): \n",
      "        At least 3 records (or pairs) must be selected.\n",
      "    \n",
      "    Rule 2 (b): \n",
      "        mean(PGA_rec) >= PGA_target\n",
      "        Here we assume SA(T[0])=PGA, where T[0] is 0.01 for both record databases.\n",
      "        Not a bad assumption since it is very close to PGA.\n",
      "    \n",
      "    Rule 3 (c): Mean of selected records should remain above the lower bound target spectrum.\n",
      "        For selection = 1: Sa_rec = (Sa_1 or Sa_2) - lower bound = 0.9 * SaTarget(0.2Tp-2.0Tp)\n",
      "        For Selection = 2: Sa_rec = (Sa_1+Sa_2)*0.5 - lower bound = 0.9 * SaTarget(0.2Tp-2.0Tp)\n",
      "    \n",
      "    Parameters\n",
      "    ----------\n",
      "    ag:  float, optional, the default is 0.25.\n",
      "        Peak ground acceleration [g]\n",
      "    xi: float, optional, the default is 0.05.\n",
      "        Damping\n",
      "    ImpClass: str, the default is 'II'.\n",
      "        Importance class ('I','II','III','IV')\n",
      "    Type: str, optional, the default is 'Type1'\n",
      "        Type of spectrum (Option: 'Type1' or 'Type2')\n",
      "    SiteClass: str, optional, the default is 'B'\n",
      "        Soil Class (Options: 'A', 'B', 'C', 'D' or 'E')\n",
      "    Tp : float, optional, the default is 1.\n",
      "        Predominant period of the structure. \n",
      "    \n",
      "    Returns\n",
      "    -------\n",
      "    None.\n",
      "\n"
     ]
    }
   ],
   "source": [
    "help(EzGM.selection.code_spectrum.ec8_part1)  # obj.ec8_part1(...)"
   ]
  },
  {
   "cell_type": "markdown",
   "metadata": {},
   "source": [
    "## 2) EzGM.signal\n",
    "Methods inside EzGM.signal can be used to process signal obtained from ground motion records."
   ]
  },
  {
   "cell_type": "code",
   "execution_count": 12,
   "metadata": {},
   "outputs": [
    {
     "name": "stdout",
     "output_type": "stream",
     "text": [
      "Help on function baseline_correction in module EzGM.signal:\n",
      "\n",
      "baseline_correction(values, dt, polynomial_type)\n",
      "    Details\n",
      "    -------\n",
      "    This script will return baseline corrected values for the given signal.\n",
      "    \n",
      "    Notes\n",
      "    -----\n",
      "    Applicable for Constant, Linear, Quadratic and Cubic polynomial functions.\n",
      "        \n",
      "    References\n",
      "    ----------\n",
      "    Kramer, Steven L. 1996. Geotechnical Earthquake Engineering. Prentice Hall.\n",
      "        \n",
      "    Parameters\n",
      "    ----------\n",
      "    values: numpy.array\n",
      "        signal values.\n",
      "    dt: float          \n",
      "        sampling interval.\n",
      "    polynomial_type: str\n",
      "        type of baseline correction 'Constant', 'Linear', 'Quadratic', 'Cubic'.\n",
      "        \n",
      "    Returns\n",
      "    -------\n",
      "    values_corrected: numpy.array\n",
      "        corrected values\n",
      "\n"
     ]
    }
   ],
   "source": [
    "help(EzGM.signal.baseline_correction)"
   ]
  },
  {
   "cell_type": "code",
   "execution_count": 13,
   "metadata": {},
   "outputs": [
    {
     "name": "stdout",
     "output_type": "stream",
     "text": [
      "Help on function butterworth_filter in module EzGM.signal:\n",
      "\n",
      "butterworth_filter(values, dt, cut_off=(0.1, 25), **kwargs)\n",
      "    Details\n",
      "    -------\n",
      "    This script will return filtered values for the given signal.\n",
      "    \n",
      "    References\n",
      "    ----------\n",
      "    Kramer, Steven L. 1996. Geotechnical Earthquake Engineering, Prentice Hall.\n",
      "        \n",
      "    Parameters\n",
      "    ----------\n",
      "    values: numpy.array\n",
      "        Input signal.\n",
      "    dt: float\n",
      "        time-step.\n",
      "    cut_off: tuple, list, optional          \n",
      "        Lower and upper cut off frequencies for the filter, if None then no filter. \n",
      "        e.g. (None, 15) applies a lowpass filter at 15Hz, whereas (0.1, 10) applies\n",
      "        a bandpass filter at 0.1Hz to 10Hz.\n",
      "    kwargs: keyword arguments, optional\n",
      "        filter_order: int\n",
      "            Order of the Butterworth filter (default = 4).\n",
      "        remove_gibbs: str, the default is None.\n",
      "            Pads with zeros to remove the Gibbs filter effect.\n",
      "            if = 'start' then pads at start,\n",
      "            if = 'end' then pads at end,\n",
      "            if = 'mid' then pads half at start and half at end.\n",
      "        gibbs_extra: int, the default is 1\n",
      "            Each increment of the value doubles the record length using zero padding.\n",
      "        gibbs_range: int, the default is 50\n",
      "            gibbs index range.\n",
      "    Returns\n",
      "    -------\n",
      "    values_filtered: numpy.array\n",
      "        Filtered signal.\n",
      "\n"
     ]
    }
   ],
   "source": [
    "help(EzGM.signal.butterworth_filter)"
   ]
  },
  {
   "cell_type": "code",
   "execution_count": 14,
   "metadata": {},
   "outputs": [
    {
     "name": "stdout",
     "output_type": "stream",
     "text": [
      "Help on function get_parameters in module EzGM.signal:\n",
      "\n",
      "get_parameters(Ag, dt, T, xi)\n",
      "    Details\n",
      "    -------\n",
      "    This script will return various ground motion parameters for a given record.\n",
      "        \n",
      "    References\n",
      "    ---------- \n",
      "    Kramer, Steven L. 1996. Geotechnical Earthquake Engineering, Prentice Hall\n",
      "    Chopra, A.K. 2012. Dynamics of Structures: Theory and \n",
      "    Applications to Earthquake Engineering, Prentice Hall.\n",
      "        \n",
      "    Parameters\n",
      "    ----------\n",
      "    Ag: numpy.array    \n",
      "        Acceleration values [m/s2].\n",
      "    dt: float\n",
      "        Time step [sec]\n",
      "    T:  float, numpy.array.\n",
      "        Considered period array e.g. 0 sec, 0.1 sec ... 4 sec.\n",
      "    xi: float\n",
      "        Damping ratio, e.g. 0.05 for 5%.\n",
      "        \n",
      "    Returns\n",
      "    -------\n",
      "    param: dictionary\n",
      "        Contains the following intensity measures:\n",
      "        PSa: numpy.array\n",
      "            Elastic pseudo-acceleration response spectrum [m/s2].\n",
      "        PSv: numpy.array\n",
      "            Elastic pseudo-velocity response spectrum [m/s].\n",
      "        Sd: numpy.array\n",
      "            Elastic displacement response spectrum  - relative displacement [m].\n",
      "        Sv: numpy.array\n",
      "            Elastic velocity response spectrum - relative velocity at [m/s].\n",
      "        Sa: numpy.array\n",
      "            Elastic accleration response spectrum - total acceleration [m/s2].\n",
      "        Ei_r: numpy.array\n",
      "            Relative input energy spectrum for elastic system [N.m].\n",
      "        Ei_a: numpy.array\n",
      "            Absolute input energy spectrum for elastic system [N.m].\n",
      "        Periods: numpy.array \n",
      "            Periods where spectral values are calculated [sec].\n",
      "        FAS: numpy.array \n",
      "            Fourier amplitude spectra.\n",
      "        PAS: numpy.array \n",
      "            Power amplitude spectra.\n",
      "        PGA: float\n",
      "            Peak ground acceleration [m/s2].\n",
      "        PGV: float\n",
      "            Peak ground velocity [m/s].\n",
      "        PGD: float\n",
      "            Peak ground displacement [m].\n",
      "        Aint: numpy.array \n",
      "            Arias intensity ratio vector with time [m/s].\n",
      "        Arias: float \n",
      "            Maximum value of arias intensity ratio [m/s].\n",
      "        HI: float\n",
      "            Housner intensity ratio [m].\n",
      "            Requires T to be defined between (0.1-2.5 sec), otherwise not applicable, and equal to -1.\n",
      "        CAV: float\n",
      "            Cumulative absolute velocity [m/s]        \n",
      "        t_5_75: list\n",
      "            Significant duration time vector between 5% and 75% of energy release (from Aint).\n",
      "        D_5_75: float\n",
      "            Significant duration between 5% and 75% of energy release (from Aint).\n",
      "        t_5_95: list    \n",
      "            Significant duration time vector between 5% and 95% of energy release (from Aint).\n",
      "        D_5_95: float\n",
      "            Significant duration between 5% and 95% of energy release (from Aint).\n",
      "        t_bracketed: list \n",
      "            Bracketed duration time vector (acc>0.05g).\n",
      "            Not applicable, in case of low intensity records, thus, equal to '-1.\n",
      "        D_bracketed: float\n",
      "            Bracketed duration (acc>0.05g)\n",
      "        t_uniform: list \n",
      "            Uniform duration time vector (acc>0.05g)\n",
      "            Not applicable, in case of low intensity records, thus, equal to -1.\n",
      "        D_uniform: float \n",
      "            Uniform duration (acc>0.05g)\n",
      "        Tm: float\n",
      "            Mean period.\n",
      "        Tp: float             \n",
      "            Predominant Period.\n",
      "        aRMS: float \n",
      "            Root mean square root of acceleration [m/s2].\n",
      "        vRMS: float\n",
      "            Root mean square root of velocity [m/s].\n",
      "        dRMS: float  \n",
      "            Root mean square root of displacement [m].\n",
      "        Ic: float\n",
      "            Characteristic intensity.\n",
      "            End time might which is used herein, is not always a good choice.\n",
      "        ASI: float   \n",
      "            Acceleration spectrum intensity [m/s].\n",
      "            Requires T to be defined between (0.1-0.5 sec), otherwise not applicable, and equal to -1.\n",
      "        MASI: float [m]\n",
      "            Modified acceleration spectrum intensity.\n",
      "            Requires T to be defined between (0.1-2.5 sec), otherwise not applicable, and equal to -1.\n",
      "        VSI: float [m]\n",
      "            Velocity spectrum intensity.\n",
      "            Requires T to be defined between (0.1-2.5 sec), otherwise not applicable, and equal to -1.\n",
      "\n"
     ]
    }
   ],
   "source": [
    "help(EzGM.signal.get_parameters)"
   ]
  },
  {
   "cell_type": "code",
   "execution_count": 15,
   "metadata": {},
   "outputs": [
    {
     "name": "stdout",
     "output_type": "stream",
     "text": [
      "Help on function sdof_ltha in module EzGM.signal:\n",
      "\n",
      "sdof_ltha(Ag, dt, T, xi, m=1)\n",
      "    Details\n",
      "    -------\n",
      "    This script will carry out linear time history analysis for SDOF system\n",
      "    It currently uses Newmark Beta Method.\n",
      "    \n",
      "    References\n",
      "    ---------- \n",
      "    Chopra, A.K. 2012. Dynamics of Structures: Theory and \n",
      "    Applications to Earthquake Engineering, Prentice Hall.\n",
      "    N. M. Newmark, “A Method of Computation for Structural Dynamics,”\n",
      "    ASCE Journal of the Engineering Mechanics Division, Vol. 85, 1959, pp. 67-94.\n",
      "    \n",
      "    Notes\n",
      "    -----\n",
      "    * Linear Acceleration Method: Gamma = 1/2, Beta = 1/6\n",
      "    * Average Acceleration Method: Gamma = 1/2, Beta = 1/4\n",
      "    * Average acceleration method is unconditionally stable,\n",
      "      whereas linear acceleration method is stable only if dt/Tn <= 0.55\n",
      "      Linear acceleration method is preferable due to its accuracy.\n",
      "    \n",
      "    Parameters\n",
      "    ----------\n",
      "    Ag: numpy.array    \n",
      "        Acceleration values.\n",
      "    dt: float\n",
      "        Time step [sec]\n",
      "    T:  float, numpy.array.\n",
      "        Considered period array e.g. 0 sec, 0.1 sec ... 4 sec.\n",
      "    xi: float\n",
      "        Damping ratio, e.g. 0.05 for 5%.\n",
      "    m:  float\n",
      "        Mass of SDOF system.\n",
      "        \n",
      "    Returns\n",
      "    -------\n",
      "    u: numpy.array       \n",
      "        Relative displacement response history.\n",
      "    v: numpy.array   \n",
      "        Relative velocity response history.\n",
      "    ac: numpy.array \n",
      "        Relative acceleration response history.\n",
      "    ac_tot: numpy.array \n",
      "        Total acceleration response history.\n",
      "\n"
     ]
    }
   ],
   "source": [
    "help(EzGM.signal.sdof_ltha)"
   ]
  },
  {
   "cell_type": "code",
   "execution_count": 16,
   "metadata": {},
   "outputs": [
    {
     "name": "stdout",
     "output_type": "stream",
     "text": [
      "Help on function RotDxx_spectrum in module EzGM.signal:\n",
      "\n",
      "RotDxx_spectrum(Ag1, Ag2, dt, T, xi, xx)\n",
      "    Details\n",
      "    -------\n",
      "    This script will return RotDxx spectrum. It currently uses Newmark Beta Method.\n",
      "    \n",
      "    References\n",
      "    ---------- \n",
      "    Boore, D. M. (2006). Orientation-Independent Measures of Ground Motion. \n",
      "    Bulletin of the Seismological Society of America, 96(4A), 1502–1511.\n",
      "    Boore, D. M. (2010). Orientation-Independent, Nongeometric-Mean Measures \n",
      "    of Seismic Intensity from Two Horizontal Components of Motion. \n",
      "    Bulletin of the Seismological Society of America, 100(4), 1830–1835.\n",
      "    \n",
      "    Notes\n",
      "    -----\n",
      "    * Linear Acceleration Method: Gamma = 1/2, Beta = 1/6\n",
      "    * Average Acceleration Method: Gamma = 1/2, Beta = 1/4\n",
      "    * Average acceleration method is unconditionally stable,\n",
      "      whereas linear acceleration method is stable only if dt/Tn <= 0.55\n",
      "      Linear acceleration method is preferable due to its accuracy.\n",
      "        \n",
      "    Parameters\n",
      "    ----------\n",
      "    Ag1 : numpy.array    \n",
      "        Acceleration values of 1st horizontal ground motion component.\n",
      "    Ag2 : numpy.array    \n",
      "        Acceleration values of 2nd horizontal ground motion component.\n",
      "    dt: float\n",
      "        Time step [sec].\n",
      "    T:  float, numpy.array\n",
      "        Considered period array e.g. 0 sec, 0.1 sec ... 4 sec.\n",
      "    xi: float\n",
      "        Damping ratio, e.g. 0.05 for 5%.\n",
      "    xx: int, list\n",
      "        Percentile to calculate, e.g. 50 for RotD50.\n",
      "        \n",
      "    Returns\n",
      "    -------\n",
      "    Sa_RotDxx: numpy.array \n",
      "        RotDxx Spectra.\n",
      "\n"
     ]
    }
   ],
   "source": [
    "help(EzGM.signal.RotDxx_spectrum)"
   ]
  },
  {
   "cell_type": "markdown",
   "metadata": {},
   "source": [
    "## 3) EzGM.utility\n",
    "EzGM.utility contains methods to post-process probabilistic seismic hazard analysis (PSHA) results obtained from OpenQuake Engine. These are:"
   ]
  },
  {
   "cell_type": "code",
   "execution_count": 17,
   "metadata": {},
   "outputs": [
    {
     "name": "stdout",
     "output_type": "stream",
     "text": [
      "Help on function hazard_curve in module EzGM.utility:\n",
      "\n",
      "hazard_curve(poes, path_hazard_results, output_dir='Post_Outputs', rlz='hazard_curve-mean')\n",
      "    Details\n",
      "    -------\n",
      "    This script will save hazard curves and  iml's corresponding to the desired poes\n",
      "    as .txt files, and the plot the hazard curves in the same figure.\n",
      "    \n",
      "    Parameters\n",
      "    ----------\n",
      "    poes : list\n",
      "        Probabilities of exceedance in tw years for which im levels will be obtained.\n",
      "    path_hazard_results: str\n",
      "        Path to the hazard results.\n",
      "    output_dir: str, optional\n",
      "        Save outputs to a pickle file.\n",
      "    rlz : str, optional\n",
      "        realization name to plot.\n",
      "    \n",
      "    Returns\n",
      "    -------\n",
      "    None.\n",
      "\n"
     ]
    }
   ],
   "source": [
    "help(EzGM.utility.hazard_curve)"
   ]
  },
  {
   "cell_type": "code",
   "execution_count": 18,
   "metadata": {},
   "outputs": [
    {
     "name": "stdout",
     "output_type": "stream",
     "text": [
      "Help on function disagg_MR in module EzGM.utility:\n",
      "\n",
      "disagg_MR(Mbin, dbin, poe_disagg, path_disagg_results, output_dir='Post_Outputs', n_rows=1)\n",
      "    Details\n",
      "    -------\n",
      "    This script will save disaggregation plots including M and R.\n",
      "    \n",
      "    Parameters\n",
      "    ----------\n",
      "    Mbin : int, float\n",
      "        magnitude bin used in disaggregation.\n",
      "    dbin : int, float\n",
      "        distance bin used in disaggregation.\n",
      "    poe_disagg : list\n",
      "        disaggregation probability of exceedances.\n",
      "    path_disagg_results: str\n",
      "        Path to the disaggregation results.\n",
      "    output_dir: str, optional\n",
      "        Save outputs to a pickle file.\n",
      "    n_rows : int, optional\n",
      "        total number of rows for subplots.\n",
      "    \n",
      "    Returns\n",
      "    -------\n",
      "    None.\n",
      "\n"
     ]
    }
   ],
   "source": [
    "help(EzGM.utility.disagg_MR)"
   ]
  },
  {
   "cell_type": "code",
   "execution_count": 19,
   "metadata": {},
   "outputs": [
    {
     "name": "stdout",
     "output_type": "stream",
     "text": [
      "Help on function disagg_MReps in module EzGM.utility:\n",
      "\n",
      "disagg_MReps(Mbin, dbin, poe_disagg, path_disagg_results, output_dir='Post_Outputs', n_rows=1)\n",
      "    Details\n",
      "    -------\n",
      "    This script will save disaggregation plots\n",
      "    including M and R.\n",
      "    \n",
      "    Parameters\n",
      "    ----------\n",
      "    Mbin : int, float\n",
      "        magnitude bin used in disaggregation.\n",
      "    dbin : int, float\n",
      "        distance bin used in disaggregation.\n",
      "    poe_disagg : list\n",
      "        disaggregation probability of exceedances\n",
      "    path_disagg_results: str\n",
      "        Path to the hazard results\n",
      "    output_dir: str, optional\n",
      "        Save outputs to a pickle file\n",
      "    n_rows : int, optional\n",
      "        total number of rows for subplots.\n",
      "    \n",
      "    Returns\n",
      "    -------\n",
      "    None.\n",
      "\n"
     ]
    }
   ],
   "source": [
    "help(EzGM.utility.disagg_MReps)"
   ]
  },
  {
   "cell_type": "markdown",
   "metadata": {},
   "source": [
    "Moreover, some of the methods inside EzGM.utility are used in EzGM.selection. Yet, these methods can be used by the user indepedently. These are:"
   ]
  },
  {
   "cell_type": "code",
   "execution_count": 20,
   "metadata": {},
   "outputs": [
    {
     "name": "stdout",
     "output_type": "stream",
     "text": [
      "Help on function run_time in module EzGM.utility:\n",
      "\n",
      "run_time(start_time)\n",
      "    Details\n",
      "    -------\n",
      "    Prints the time passed between startTime and FinishTime (now)\n",
      "    in hours, minutes, seconds. startTime is a global variable.\n",
      "    \n",
      "    Parameters\n",
      "    ----------\n",
      "    start_time : int\n",
      "        The initial time obtained via time().\n",
      "    \n",
      "    Returns\n",
      "    -------\n",
      "    None.\n",
      "\n"
     ]
    }
   ],
   "source": [
    "help(EzGM.utility.run_time)"
   ]
  },
  {
   "cell_type": "code",
   "execution_count": 21,
   "metadata": {},
   "outputs": [
    {
     "name": "stdout",
     "output_type": "stream",
     "text": [
      "Help on function create_dir in module EzGM.utility:\n",
      "\n",
      "create_dir(dir_path)\n",
      "    Details\n",
      "    -------\n",
      "    Creates a clean directory by deleting it if it exists.\n",
      "    \n",
      "    Parameters\n",
      "    ----------\n",
      "    dir_path : str\n",
      "        name of directory to create.\n",
      "    \n",
      "    None.\n",
      "\n"
     ]
    }
   ],
   "source": [
    "help(EzGM.utility.create_dir)"
   ]
  },
  {
   "cell_type": "code",
   "execution_count": 22,
   "metadata": {},
   "outputs": [
    {
     "name": "stdout",
     "output_type": "stream",
     "text": [
      "Help on function ContentFromZip in module EzGM.utility:\n",
      "\n",
      "ContentFromZip(paths, zipName)\n",
      "    Details\n",
      "    -------\n",
      "    This function reads the contents of all selected records\n",
      "    from the zipfile in which the records are located\n",
      "    \n",
      "    Parameters\n",
      "    ----------\n",
      "    paths : list\n",
      "        Containing file list which are going to be read from the zipfile.\n",
      "    zipName    : str\n",
      "        Path to the zip file where file lists defined in \"paths\" are located.\n",
      "    \n",
      "    Returns\n",
      "    -------\n",
      "    contents   : dictionary\n",
      "        Containing raw contents of the files which are read from the zipfile.\n",
      "\n"
     ]
    }
   ],
   "source": [
    "help(EzGM.utility.ContentFromZip)"
   ]
  },
  {
   "cell_type": "code",
   "execution_count": 23,
   "metadata": {},
   "outputs": [
    {
     "name": "stdout",
     "output_type": "stream",
     "text": [
      "Help on function ReadNGA in module EzGM.utility:\n",
      "\n",
      "ReadNGA(inFilename=None, content=None, outFilename=None)\n",
      "    Details\n",
      "    -------\n",
      "    This function process acceleration history for NGA data file (.AT2 format).\n",
      "    \n",
      "    Parameters\n",
      "    ----------\n",
      "    inFilename : str, optional\n",
      "        Location and name of the input file.\n",
      "        The default is None\n",
      "    content    : str, optional\n",
      "        Raw content of the .AT2 file.\n",
      "        The default is None\n",
      "    outFilename : str, optional\n",
      "        location and name of the output file.\n",
      "        The default is None.\n",
      "    \n",
      "    Notes\n",
      "    -----\n",
      "    At least one of the two variables must be defined: inFilename, content.\n",
      "    \n",
      "    Returns\n",
      "    -------\n",
      "    dt   : float\n",
      "        time interval of recorded points.\n",
      "    npts : int\n",
      "        number of points in ground motion record file.\n",
      "    desc : str\n",
      "        Description of the earthquake (e.g., name, year, etc).\n",
      "    t    : numpy.array (n x 1)\n",
      "        time array, same length with npts.\n",
      "    acc  : numpy.array (n x 1)\n",
      "        acceleration array, same length with time unit\n",
      "        usually in (g) unless stated as other.\n",
      "\n"
     ]
    }
   ],
   "source": [
    "help(EzGM.utility.ReadNGA)"
   ]
  },
  {
   "cell_type": "code",
   "execution_count": 24,
   "metadata": {},
   "outputs": [
    {
     "name": "stdout",
     "output_type": "stream",
     "text": [
      "Help on function ReadESM in module EzGM.utility:\n",
      "\n",
      "ReadESM(inFilename=None, content=None, outFilename=None)\n",
      "    Details\n",
      "    -------\n",
      "    This function process acceleration history for ESM data file.\n",
      "    \n",
      "    Parameters\n",
      "    ----------\n",
      "    inFilename : str, optional\n",
      "        Location and name of the input file.\n",
      "        The default is None\n",
      "    content    : str, optional\n",
      "        Raw content of the ESM record file.\n",
      "        The default is None\n",
      "    outFilename : str, optional\n",
      "        location and name of the output file.\n",
      "        The default is None.\n",
      "    \n",
      "    Returns\n",
      "    -------\n",
      "    dt   : float\n",
      "        time interval of recorded points.\n",
      "    npts : int\n",
      "        number of points in ground motion record file.\n",
      "    desc : str\n",
      "        Description of the earthquake (e.g., name, year, etc).\n",
      "    time : numpy.array (n x 1)\n",
      "        time array, same length with npts.\n",
      "    acc  : numpy.array (n x 1)\n",
      "        acceleration array, same length with time unit\n",
      "        usually in (g) unless stated as other.\n",
      "\n"
     ]
    }
   ],
   "source": [
    "help(EzGM.utility.ReadESM)"
   ]
  },
  {
   "cell_type": "code",
   "execution_count": 25,
   "metadata": {},
   "outputs": [
    {
     "name": "stdout",
     "output_type": "stream",
     "text": [
      "Help on function get_esm_token in module EzGM.utility:\n",
      "\n",
      "get_esm_token(username, pwd)\n",
      "    Details\n",
      "    -------\n",
      "    This function retrieves ESM database token.\n",
      "    \n",
      "    Notes\n",
      "    -------\n",
      "    Data must be obtained using any program supporting the HTTP-POST method, e.g. CURL.\n",
      "    see: https://esm-db.eu/esmws/generate-signed-message/1/query-options.html\n",
      "    Credentials must have been retrieved from https://esm-db.eu/#/home.\n",
      "    \n",
      "    Parameters\n",
      "    ----------\n",
      "    username     : str\n",
      "        Account username (e-mail),  e.g. 'username@mail.com'.\n",
      "    pwd          : str\n",
      "        Account password, e.g. 'password!12345'.\n",
      "    \n",
      "    Returns\n",
      "    -------\n",
      "    None.\n",
      "\n"
     ]
    }
   ],
   "source": [
    "help(EzGM.utility.get_esm_token)"
   ]
  },
  {
   "cell_type": "code",
   "execution_count": 26,
   "metadata": {},
   "outputs": [
    {
     "name": "stdout",
     "output_type": "stream",
     "text": [
      "Help on function get_available_gmpes in module EzGM.utility:\n",
      "\n",
      "get_available_gmpes()\n",
      "    Details\n",
      "    -------\n",
      "    Retrieves available ground motion prediction equations (gmpe) in OpenQuake.\n",
      "    \n",
      "    Parameters\n",
      "    ----------\n",
      "    None.\n",
      "    \n",
      "    Returns\n",
      "    -------\n",
      "    gmpes : dict\n",
      "        Dictionary which contains available gmpes in openquake.\n",
      "\n"
     ]
    }
   ],
   "source": [
    "help(EzGM.utility.get_available_gmpes)"
   ]
  },
  {
   "cell_type": "code",
   "execution_count": 27,
   "metadata": {},
   "outputs": [
    {
     "name": "stdout",
     "output_type": "stream",
     "text": [
      "Help on function check_gmpe_attributes in module EzGM.utility:\n",
      "\n",
      "check_gmpe_attributes(gmpe)\n",
      "    Details\n",
      "    -------\n",
      "    Checks the attributes for gmpe.\n",
      "    \n",
      "    Parameters\n",
      "    ----------\n",
      "    gmpe : str\n",
      "        gmpe name for which attributes going to be checked\n",
      "    \n",
      "    Returns\n",
      "    -------\n",
      "    None.\n",
      "\n"
     ]
    }
   ],
   "source": [
    "help(EzGM.utility.check_gmpe_attributes)"
   ]
  },
  {
   "cell_type": "code",
   "execution_count": 28,
   "metadata": {},
   "outputs": [
    {
     "name": "stdout",
     "output_type": "stream",
     "text": [
      "Help on function SiteParam_tbec2018 in module EzGM.utility:\n",
      "\n",
      "SiteParam_tbec2018(Lat, Long, DD, SiteClass)\n",
      "    Details\n",
      "    -------\n",
      "    This method retrieves the design response spectrum parameters for the given site according to TBEC2018.\n",
      "    \n",
      "    References\n",
      "    ----------\n",
      "    TBEC. (2018). Turkish building earthquake code.\n",
      "    \n",
      "    Notes\n",
      "    -----\n",
      "    \n",
      "    Parameters\n",
      "    ----------\n",
      "    Lat: float\n",
      "        Site latitude\n",
      "    Long: float\n",
      "        Site longitude\n",
      "    DD:  int\n",
      "        Earthquake ground motion intensity level (1,2,3,4)\n",
      "    SiteClass: str\n",
      "        Site soil class ('ZA','ZB','ZC','ZD','ZE')\n",
      "    \n",
      "    Returns\n",
      "    -------\n",
      "    PGA: float\n",
      "        Peak ground acceleration\n",
      "    SDS: float\n",
      "        Short period (0.2 sec) spectral acceleration coefficient\n",
      "    SD1: float\n",
      "        Spectral acceleration coefficient at period 1.0\n",
      "    TL: float\n",
      "        Period value for long-period transition\n",
      "\n"
     ]
    }
   ],
   "source": [
    "help(EzGM.utility.SiteParam_tbec2018)"
   ]
  },
  {
   "cell_type": "code",
   "execution_count": 29,
   "metadata": {},
   "outputs": [
    {
     "name": "stdout",
     "output_type": "stream",
     "text": [
      "Help on function Sae_tbec2018 in module EzGM.utility:\n",
      "\n",
      "Sae_tbec2018(T, PGA, SDS, SD1, TL)\n",
      "    Details\n",
      "    -------\n",
      "    This method calculates the design response spectrum according to TBEC2018.\n",
      "    \n",
      "    References\n",
      "    ----------\n",
      "    TBEC. (2018). Turkish building earthquake code.\n",
      "    \n",
      "    Notes\n",
      "    -----\n",
      "    \n",
      "    Parameters\n",
      "    ----------\n",
      "    T:  numpy.array\n",
      "        period array in which target spectrum is calculated\n",
      "    PGA: float\n",
      "        Peak ground acceleration\n",
      "    SDS: float\n",
      "        Short period (0.2 sec) spectral acceleration coefficient\n",
      "    SD1: float\n",
      "        Spectral acceleration coefficient at period 1.0\n",
      "    TL: float\n",
      "        Period value for long-period transition\n",
      "    \n",
      "    Returns\n",
      "    -------\n",
      "    Sae: numpy.array\n",
      "        Elastic acceleration response spectrum\n",
      "\n"
     ]
    }
   ],
   "source": [
    "help(EzGM.utility.Sae_tbec2018)"
   ]
  },
  {
   "cell_type": "code",
   "execution_count": 30,
   "metadata": {},
   "outputs": [
    {
     "name": "stdout",
     "output_type": "stream",
     "text": [
      "Help on function SiteParam_asce7_16 in module EzGM.utility:\n",
      "\n",
      "SiteParam_asce7_16(Lat, Long, RiskCat, SiteClass)\n",
      "    Details\n",
      "    -------\n",
      "    This method makes use of API developed by USGS to get spectra (ASCE7-16) info in US.\n",
      "    It retrieves the design response spectrum parameters for the given site.\n",
      "    \n",
      "    References\n",
      "    ----------\n",
      "    https://earthquake.usgs.gov/ws/designmaps/asce7-16.html\n",
      "    American Society of Civil Engineers. (2017, June). Minimum design loads and associated criteria\n",
      "    for buildings and other structures. American Society of Civil Engineers.\n",
      "    \n",
      "    Notes\n",
      "    -----\n",
      "    \n",
      "    Parameters\n",
      "    ----------\n",
      "    Lat: float\n",
      "        Site latitude\n",
      "    Long: float\n",
      "        Site longitude\n",
      "    RiskCat:  str\n",
      "        Risk category for structure ('I','II','III','IV')\n",
      "    SiteClass: str\n",
      "        Site soil class ('A','B','C','D','E')\n",
      "    \n",
      "    Returns\n",
      "    -------\n",
      "    SDS: float\n",
      "        Short period (0.2 sec) spectral acceleration coefficient\n",
      "    SD1: float\n",
      "        Spectral acceleration coefficient at period 1.0\n",
      "    TL: float\n",
      "        Period value for long-period transition\n",
      "\n"
     ]
    }
   ],
   "source": [
    "help(EzGM.utility.SiteParam_asce7_16)"
   ]
  },
  {
   "cell_type": "code",
   "execution_count": 31,
   "metadata": {},
   "outputs": [
    {
     "name": "stdout",
     "output_type": "stream",
     "text": [
      "Help on function Sae_asce7_16 in module EzGM.utility:\n",
      "\n",
      "Sae_asce7_16(T, SDS, SD1, TL)\n",
      "    Details\n",
      "    -------\n",
      "    This method determines the design response spectrum based on ASCE 7-16.\n",
      "    \n",
      "    References\n",
      "    ----------\n",
      "    American Society of Civil Engineers. (2017, June). Minimum design loads and associated criteria\n",
      "    for buildings and other structures. American Society of Civil Engineers.\n",
      "    \n",
      "    Notes\n",
      "    -----\n",
      "    \n",
      "    Parameters\n",
      "    ----------\n",
      "    SDS: float\n",
      "        Numeric seismic design value (0.2 sec)\n",
      "    SD1: float\n",
      "        Numeric seismic design value (1.0 sec)\n",
      "    TL: float\n",
      "        Long-period transition period\n",
      "    \n",
      "    \n",
      "    Returns\n",
      "    -------\n",
      "    Sae: numpy.array\n",
      "        Elastic acceleration response spectrum\n",
      "\n"
     ]
    }
   ],
   "source": [
    "help(EzGM.utility.Sae_asce7_16)"
   ]
  },
  {
   "cell_type": "code",
   "execution_count": 32,
   "metadata": {},
   "outputs": [
    {
     "name": "stdout",
     "output_type": "stream",
     "text": [
      "Help on function Sae_ec8_part1 in module EzGM.utility:\n",
      "\n",
      "Sae_ec8_part1(ag, xi, T, ImpClass, Type, SiteClass)\n",
      "    Details\n",
      "    -------\n",
      "    Calculates the design response spectrum according to EN 1998-1:2004\n",
      "    \n",
      "    References\n",
      "    ----------\n",
      "    CEN. Eurocode 8: Design of Structures for Earthquake Resistance -  Part 1: General Rules,\n",
      "    Seismic Actions and Rules for Buildings (EN 1998-1:2004). Brussels, Belgium: 2004.\n",
      "    \n",
      "    Notes\n",
      "    -----\n",
      "    \n",
      "    Parameters\n",
      "    ----------\n",
      "    ag: float\n",
      "        Peak ground acceleration\n",
      "    xi: float\n",
      "        Damping ratio\n",
      "    T: list or numpy.array\n",
      "        Period array to get Sa values\n",
      "    ImpClass: str\n",
      "        Importance class ('I','II','III','IV')\n",
      "    Type: str\n",
      "        Type of spectrum ('Type1','Type2')\n",
      "    SiteClass: str\n",
      "        Site Soil Class ('A','B','C','D','E')\n",
      "    \n",
      "    Returns\n",
      "    -------\n",
      "    Sae: numpy.array\n",
      "        Elastic acceleration response spectrum\n",
      "\n"
     ]
    }
   ],
   "source": [
    "help(EzGM.utility.Sae_ec8_part1)"
   ]
  }
 ],
 "metadata": {
  "colab": {
   "collapsed_sections": [],
   "name": "Example1.ipynb",
   "provenance": []
  },
  "kernelspec": {
   "display_name": "Python 3 (ipykernel)",
   "language": "python",
   "name": "python3"
  },
  "language_info": {
   "codemirror_mode": {
    "name": "ipython",
    "version": 3
   },
   "file_extension": ".py",
   "mimetype": "text/x-python",
   "name": "python",
   "nbconvert_exporter": "python",
   "pygments_lexer": "ipython3",
   "version": "3.8.12"
  },
  "latex_envs": {
   "LaTeX_envs_menu_present": true,
   "autoclose": false,
   "autocomplete": true,
   "bibliofile": "biblio.bib",
   "cite_by": "apalike",
   "current_citInitial": 1,
   "eqLabelWithNumbers": true,
   "eqNumInitial": 1,
   "hotkeys": {
    "equation": "Ctrl-E",
    "itemize": "Ctrl-I"
   },
   "labels_anchors": false,
   "latex_user_defs": false,
   "report_style_numbering": false,
   "user_envs_cfg": false
  }
 },
 "nbformat": 4,
 "nbformat_minor": 1
}
