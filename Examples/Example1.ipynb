{
 "cells": [
  {
   "cell_type": "markdown",
   "metadata": {},
   "source": [
    "## Conditional Spectrum (CS) Based Record Selection, IM = Sa(T*)"
   ]
  },
  {
   "cell_type": "code",
   "execution_count": 1,
   "metadata": {},
   "outputs": [],
   "source": [
    "# !pip install EzGM\n",
    "# If geos_c.dll or similar .dll files are missing, OpenQuake dependencies are not properly installed. \n",
    "# Write conda install shapely in anaconda prompt"
   ]
  },
  {
   "cell_type": "code",
   "execution_count": 2,
   "metadata": {},
   "outputs": [],
   "source": [
    "from EzGM.Selection import conditional_spectrum\n",
    "from time import time\n",
    "from EzGM.Utility import RunTime"
   ]
  },
  {
   "cell_type": "code",
   "execution_count": 3,
   "metadata": {},
   "outputs": [],
   "source": [
    "# Acquire the run start time\n",
    "startTime = time()"
   ]
  },
  {
   "cell_type": "markdown",
   "metadata": {},
   "source": [
    "### 1) Initialize the conditional_spectrum object for record selection, check which parameters are required for the gmpe you are using."
   ]
  },
  {
   "cell_type": "code",
   "execution_count": 4,
   "metadata": {},
   "outputs": [
    {
     "name": "stdout",
     "output_type": "stream",
     "text": [
      "For the selected gmpe;\n",
      "The mandatory input distance parameters are ['rjb']\n",
      "The mandatory input rupture parameters are ['rake', 'mag']\n",
      "The mandatory input site parameters are ['vs30']\n",
      "The defined intensity measure component is Average horizontal\n",
      "The defined tectonic region type is Active Shallow Crust\n",
      "\n"
     ]
    }
   ],
   "source": [
    "cs = conditional_spectrum(Tstar=1.0, gmpe='AkkarEtAlRjb2014', database='NGA_W2', pInfo=1)"
   ]
  },
  {
   "cell_type": "markdown",
   "metadata": {},
   "source": [
    "### 2) Create target spectrum"
   ]
  },
  {
   "cell_type": "code",
   "execution_count": null,
   "metadata": {},
   "outputs": [],
   "source": [
    "cs.create(site_param={'vs30': 500}, rup_param={'rake': 0.0, 'mag': [7.5]},\n",
    "          dist_param={'rjb': [10]}, Hcont=None, T_Tgt_range=[0.05, 2.5],\n",
    "          im_Tstar=1.5, epsilon=None, cond=1, useVar=1, corr_func='akkar',\n",
    "          outdir='Outputs')\n",
    "# Target spectrum can be plotted at this stage\n",
    "cs.plot(tgt=1, sim=0, rec=0, save=1, show=1)"
   ]
  },
  {
   "cell_type": "markdown",
   "metadata": {},
   "source": [
    "### 3) Select the ground motions"
   ]
  },
  {
   "cell_type": "code",
   "execution_count": null,
   "metadata": {},
   "outputs": [],
   "source": [
    "cs.select(nGM=10, selection=1, Sa_def='RotD50', isScaled=1, maxScale=4,\n",
    "          Mw_lim=[5.5,8], Vs30_lim=[360,760], Rjb_lim=[0,50], fault_lim=None, nTrials=20,\n",
    "          weights=[1, 2, 0.3], seedValue=0, nLoop=2, penalty=1, tol=10)\n",
    "\n",
    "# The simulated spectra and spectra of selected records can be plotted at this stage\n",
    "cs.plot(tgt=0, sim=1, rec=1, save=1, show=1)"
   ]
  },
  {
   "cell_type": "markdown",
   "metadata": {},
   "source": [
    "### 4) If database == 'NGA_W2' you can first download the records via nga_download method from NGA-West2 Database [http://ngawest2.berkeley.edu/] and then use write method. If you already have record database elsewhere you can ignore and comment this part"
   ]
  },
  {
   "cell_type": "code",
   "execution_count": null,
   "metadata": {},
   "outputs": [],
   "source": [
    "cs.ngaw2_download(username = 'example_username@email.com', pwd = 'example_password123456')"
   ]
  },
  {
   "cell_type": "markdown",
   "metadata": {},
   "source": [
    "### 5) If you have records already inside recs_f\\database.zip\\database or downloaded records for database = NGA_W2 case, write whatever you want, the object itself, selected and scaled time histories"
   ]
  },
  {
   "cell_type": "code",
   "execution_count": null,
   "metadata": {},
   "outputs": [],
   "source": [
    "cs.write(obj=1, recs=0, recs_f='')"
   ]
  },
  {
   "cell_type": "code",
   "execution_count": null,
   "metadata": {},
   "outputs": [],
   "source": [
    "# Calculate the total time passed\n",
    "RunTime(startTime)"
   ]
  }
 ],
 "metadata": {
  "kernelspec": {
   "display_name": "Python 3",
   "language": "python",
   "name": "python3"
  },
  "language_info": {
   "codemirror_mode": {
    "name": "ipython",
    "version": 3
   },
   "file_extension": ".py",
   "mimetype": "text/x-python",
   "name": "python",
   "nbconvert_exporter": "python",
   "pygments_lexer": "ipython3",
   "version": "3.8.5"
  },
  "latex_envs": {
   "LaTeX_envs_menu_present": true,
   "autoclose": false,
   "autocomplete": true,
   "bibliofile": "biblio.bib",
   "cite_by": "apalike",
   "current_citInitial": 1,
   "eqLabelWithNumbers": true,
   "eqNumInitial": 1,
   "hotkeys": {
    "equation": "Ctrl-E",
    "itemize": "Ctrl-I"
   },
   "labels_anchors": false,
   "latex_user_defs": false,
   "report_style_numbering": false,
   "user_envs_cfg": false
  }
 },
 "nbformat": 4,
 "nbformat_minor": 4
}
